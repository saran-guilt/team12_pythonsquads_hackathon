{
 "cells": [
  {
   "cell_type": "code",
   "execution_count": 1,
   "id": "896ee49d-563c-435a-9916-9e412131dfce",
   "metadata": {},
   "outputs": [
    {
     "name": "stdout",
     "output_type": "stream",
     "text": [
      "Average age of female athletes: 29.50 years\n"
     ]
    }
   ],
   "source": [
    "import pandas as pd\n",
    "from io import StringIO\n",
    "# 1. What is the average age of Female athletes who participated in this graded exercise tests?\n",
    "df = pd.read_csv('subject-info.csv')\n",
    "df.head\n",
    "female_athletes = df[df['Sex'] == 0]\n",
    "average_age = female_athletes['Age'].mean()\n",
    "print(f\"Average age of female athletes: {average_age:.2f} years\")"
   ]
  },
  {
   "cell_type": "code",
   "execution_count": null,
   "id": "49a404fc-dc2b-45f6-99e8-0dfb42bf8b66",
   "metadata": {},
   "outputs": [],
   "source": []
  }
 ],
 "metadata": {
  "kernelspec": {
   "display_name": "Python 3 (ipykernel)",
   "language": "python",
   "name": "python3"
  },
  "language_info": {
   "codemirror_mode": {
    "name": "ipython",
    "version": 3
   },
   "file_extension": ".py",
   "mimetype": "text/x-python",
   "name": "python",
   "nbconvert_exporter": "python",
   "pygments_lexer": "ipython3",
   "version": "3.12.7"
  }
 },
 "nbformat": 4,
 "nbformat_minor": 5
}
