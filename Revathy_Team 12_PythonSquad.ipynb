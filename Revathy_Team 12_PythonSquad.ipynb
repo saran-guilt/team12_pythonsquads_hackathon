{
 "cells": [
  {
   "cell_type": "code",
   "execution_count": 8,
   "id": "bcf4f673-354c-4013-9a76-e8b3c21d76ae",
   "metadata": {},
   "outputs": [],
   "source": [
    "import pandas as pd\n",
    "import numpy as np\n",
    "import matplotlib.pyplot as plt\n",
    "import plotly.express as px\n"
   ]
  },
  {
   "cell_type": "code",
   "execution_count": 9,
   "id": "66da47a2-5bef-4775-b6d4-a2f7467cbd88",
   "metadata": {},
   "outputs": [],
   "source": [
    "df1 = pd.read_csv(\"subject-info.csv\")\n",
    "df2 = pd.read_csv(\"test_measure.csv\")\n"
   ]
  },
  {
   "cell_type": "code",
   "execution_count": 10,
   "id": "a4a2f397-7c1b-42e9-bfed-aaf0cf224b7c",
   "metadata": {},
   "outputs": [
    {
     "data": {
      "text/html": [
       "<div>\n",
       "<style scoped>\n",
       "    .dataframe tbody tr th:only-of-type {\n",
       "        vertical-align: middle;\n",
       "    }\n",
       "\n",
       "    .dataframe tbody tr th {\n",
       "        vertical-align: top;\n",
       "    }\n",
       "\n",
       "    .dataframe thead th {\n",
       "        text-align: right;\n",
       "    }\n",
       "</style>\n",
       "<table border=\"1\" class=\"dataframe\">\n",
       "  <thead>\n",
       "    <tr style=\"text-align: right;\">\n",
       "      <th></th>\n",
       "      <th>Age</th>\n",
       "      <th>Weight</th>\n",
       "      <th>Height</th>\n",
       "      <th>Humidity</th>\n",
       "      <th>Temperature</th>\n",
       "      <th>Sex</th>\n",
       "      <th>ID</th>\n",
       "      <th>ID_test</th>\n",
       "    </tr>\n",
       "  </thead>\n",
       "  <tbody>\n",
       "    <tr>\n",
       "      <th>0</th>\n",
       "      <td>10.8</td>\n",
       "      <td>48.8</td>\n",
       "      <td>163.0</td>\n",
       "      <td>39.0</td>\n",
       "      <td>20.7</td>\n",
       "      <td>1</td>\n",
       "      <td>543</td>\n",
       "      <td>543_1</td>\n",
       "    </tr>\n",
       "    <tr>\n",
       "      <th>1</th>\n",
       "      <td>11.8</td>\n",
       "      <td>41.0</td>\n",
       "      <td>150.0</td>\n",
       "      <td>41.0</td>\n",
       "      <td>22.3</td>\n",
       "      <td>1</td>\n",
       "      <td>11</td>\n",
       "      <td>11_1</td>\n",
       "    </tr>\n",
       "    <tr>\n",
       "      <th>2</th>\n",
       "      <td>12.2</td>\n",
       "      <td>46.0</td>\n",
       "      <td>160.0</td>\n",
       "      <td>37.0</td>\n",
       "      <td>21.5</td>\n",
       "      <td>0</td>\n",
       "      <td>829</td>\n",
       "      <td>829_1</td>\n",
       "    </tr>\n",
       "    <tr>\n",
       "      <th>3</th>\n",
       "      <td>13.2</td>\n",
       "      <td>71.0</td>\n",
       "      <td>190.0</td>\n",
       "      <td>49.0</td>\n",
       "      <td>23.8</td>\n",
       "      <td>1</td>\n",
       "      <td>284</td>\n",
       "      <td>284_1</td>\n",
       "    </tr>\n",
       "    <tr>\n",
       "      <th>4</th>\n",
       "      <td>13.7</td>\n",
       "      <td>53.8</td>\n",
       "      <td>169.7</td>\n",
       "      <td>40.0</td>\n",
       "      <td>25.3</td>\n",
       "      <td>0</td>\n",
       "      <td>341</td>\n",
       "      <td>341_1</td>\n",
       "    </tr>\n",
       "    <tr>\n",
       "      <th>...</th>\n",
       "      <td>...</td>\n",
       "      <td>...</td>\n",
       "      <td>...</td>\n",
       "      <td>...</td>\n",
       "      <td>...</td>\n",
       "      <td>...</td>\n",
       "      <td>...</td>\n",
       "      <td>...</td>\n",
       "    </tr>\n",
       "    <tr>\n",
       "      <th>987</th>\n",
       "      <td>59.1</td>\n",
       "      <td>64.7</td>\n",
       "      <td>172.0</td>\n",
       "      <td>38.0</td>\n",
       "      <td>24.4</td>\n",
       "      <td>0</td>\n",
       "      <td>856</td>\n",
       "      <td>856_2</td>\n",
       "    </tr>\n",
       "    <tr>\n",
       "      <th>988</th>\n",
       "      <td>59.7</td>\n",
       "      <td>65.2</td>\n",
       "      <td>172.0</td>\n",
       "      <td>51.0</td>\n",
       "      <td>16.8</td>\n",
       "      <td>0</td>\n",
       "      <td>856</td>\n",
       "      <td>856_3</td>\n",
       "    </tr>\n",
       "    <tr>\n",
       "      <th>989</th>\n",
       "      <td>61.3</td>\n",
       "      <td>102.0</td>\n",
       "      <td>185.0</td>\n",
       "      <td>56.0</td>\n",
       "      <td>20.5</td>\n",
       "      <td>0</td>\n",
       "      <td>390</td>\n",
       "      <td>390_1</td>\n",
       "    </tr>\n",
       "    <tr>\n",
       "      <th>990</th>\n",
       "      <td>61.6</td>\n",
       "      <td>74.0</td>\n",
       "      <td>169.0</td>\n",
       "      <td>46.0</td>\n",
       "      <td>23.9</td>\n",
       "      <td>0</td>\n",
       "      <td>596</td>\n",
       "      <td>596_1</td>\n",
       "    </tr>\n",
       "    <tr>\n",
       "      <th>991</th>\n",
       "      <td>63.0</td>\n",
       "      <td>83.5</td>\n",
       "      <td>171.5</td>\n",
       "      <td>48.0</td>\n",
       "      <td>22.2</td>\n",
       "      <td>0</td>\n",
       "      <td>296</td>\n",
       "      <td>296_1</td>\n",
       "    </tr>\n",
       "  </tbody>\n",
       "</table>\n",
       "<p>992 rows × 8 columns</p>\n",
       "</div>"
      ],
      "text/plain": [
       "      Age  Weight  Height  Humidity  Temperature  Sex   ID ID_test\n",
       "0    10.8    48.8   163.0      39.0         20.7    1  543   543_1\n",
       "1    11.8    41.0   150.0      41.0         22.3    1   11    11_1\n",
       "2    12.2    46.0   160.0      37.0         21.5    0  829   829_1\n",
       "3    13.2    71.0   190.0      49.0         23.8    1  284   284_1\n",
       "4    13.7    53.8   169.7      40.0         25.3    0  341   341_1\n",
       "..    ...     ...     ...       ...          ...  ...  ...     ...\n",
       "987  59.1    64.7   172.0      38.0         24.4    0  856   856_2\n",
       "988  59.7    65.2   172.0      51.0         16.8    0  856   856_3\n",
       "989  61.3   102.0   185.0      56.0         20.5    0  390   390_1\n",
       "990  61.6    74.0   169.0      46.0         23.9    0  596   596_1\n",
       "991  63.0    83.5   171.5      48.0         22.2    0  296   296_1\n",
       "\n",
       "[992 rows x 8 columns]"
      ]
     },
     "execution_count": 10,
     "metadata": {},
     "output_type": "execute_result"
    }
   ],
   "source": [
    "df1\n"
   ]
  },
  {
   "cell_type": "code",
   "execution_count": 11,
   "id": "a4f0cb2e-1e49-40e5-9bf5-88fee3c9ac84",
   "metadata": {},
   "outputs": [
    {
     "data": {
      "text/html": [
       "<div>\n",
       "<style scoped>\n",
       "    .dataframe tbody tr th:only-of-type {\n",
       "        vertical-align: middle;\n",
       "    }\n",
       "\n",
       "    .dataframe tbody tr th {\n",
       "        vertical-align: top;\n",
       "    }\n",
       "\n",
       "    .dataframe thead th {\n",
       "        text-align: right;\n",
       "    }\n",
       "</style>\n",
       "<table border=\"1\" class=\"dataframe\">\n",
       "  <thead>\n",
       "    <tr style=\"text-align: right;\">\n",
       "      <th></th>\n",
       "      <th>time</th>\n",
       "      <th>Speed</th>\n",
       "      <th>HR</th>\n",
       "      <th>VO2</th>\n",
       "      <th>VCO2</th>\n",
       "      <th>RR</th>\n",
       "      <th>VE</th>\n",
       "      <th>ID_test</th>\n",
       "      <th>ID</th>\n",
       "    </tr>\n",
       "  </thead>\n",
       "  <tbody>\n",
       "    <tr>\n",
       "      <th>0</th>\n",
       "      <td>0</td>\n",
       "      <td>5.0</td>\n",
       "      <td>63.0</td>\n",
       "      <td>478.0</td>\n",
       "      <td>360.0</td>\n",
       "      <td>27.0</td>\n",
       "      <td>13.3</td>\n",
       "      <td>2_1</td>\n",
       "      <td>2</td>\n",
       "    </tr>\n",
       "    <tr>\n",
       "      <th>1</th>\n",
       "      <td>2</td>\n",
       "      <td>5.0</td>\n",
       "      <td>75.0</td>\n",
       "      <td>401.0</td>\n",
       "      <td>295.0</td>\n",
       "      <td>23.0</td>\n",
       "      <td>10.3</td>\n",
       "      <td>2_1</td>\n",
       "      <td>2</td>\n",
       "    </tr>\n",
       "    <tr>\n",
       "      <th>2</th>\n",
       "      <td>4</td>\n",
       "      <td>5.0</td>\n",
       "      <td>82.0</td>\n",
       "      <td>449.0</td>\n",
       "      <td>319.0</td>\n",
       "      <td>29.0</td>\n",
       "      <td>12.2</td>\n",
       "      <td>2_1</td>\n",
       "      <td>2</td>\n",
       "    </tr>\n",
       "    <tr>\n",
       "      <th>3</th>\n",
       "      <td>7</td>\n",
       "      <td>5.0</td>\n",
       "      <td>87.0</td>\n",
       "      <td>461.0</td>\n",
       "      <td>340.0</td>\n",
       "      <td>28.0</td>\n",
       "      <td>12.8</td>\n",
       "      <td>2_1</td>\n",
       "      <td>2</td>\n",
       "    </tr>\n",
       "    <tr>\n",
       "      <th>4</th>\n",
       "      <td>9</td>\n",
       "      <td>5.0</td>\n",
       "      <td>92.0</td>\n",
       "      <td>574.0</td>\n",
       "      <td>417.0</td>\n",
       "      <td>28.0</td>\n",
       "      <td>14.6</td>\n",
       "      <td>2_1</td>\n",
       "      <td>2</td>\n",
       "    </tr>\n",
       "    <tr>\n",
       "      <th>...</th>\n",
       "      <td>...</td>\n",
       "      <td>...</td>\n",
       "      <td>...</td>\n",
       "      <td>...</td>\n",
       "      <td>...</td>\n",
       "      <td>...</td>\n",
       "      <td>...</td>\n",
       "      <td>...</td>\n",
       "      <td>...</td>\n",
       "    </tr>\n",
       "    <tr>\n",
       "      <th>575082</th>\n",
       "      <td>926</td>\n",
       "      <td>5.0</td>\n",
       "      <td>148.0</td>\n",
       "      <td>1350.0</td>\n",
       "      <td>1699.0</td>\n",
       "      <td>35.0</td>\n",
       "      <td>65.7</td>\n",
       "      <td>857_1</td>\n",
       "      <td>857</td>\n",
       "    </tr>\n",
       "    <tr>\n",
       "      <th>575083</th>\n",
       "      <td>927</td>\n",
       "      <td>5.0</td>\n",
       "      <td>147.0</td>\n",
       "      <td>1275.0</td>\n",
       "      <td>1605.0</td>\n",
       "      <td>32.0</td>\n",
       "      <td>60.1</td>\n",
       "      <td>857_1</td>\n",
       "      <td>857</td>\n",
       "    </tr>\n",
       "    <tr>\n",
       "      <th>575084</th>\n",
       "      <td>929</td>\n",
       "      <td>5.0</td>\n",
       "      <td>147.0</td>\n",
       "      <td>1259.0</td>\n",
       "      <td>1566.0</td>\n",
       "      <td>29.0</td>\n",
       "      <td>57.0</td>\n",
       "      <td>857_1</td>\n",
       "      <td>857</td>\n",
       "    </tr>\n",
       "    <tr>\n",
       "      <th>575085</th>\n",
       "      <td>931</td>\n",
       "      <td>5.0</td>\n",
       "      <td>147.0</td>\n",
       "      <td>1278.0</td>\n",
       "      <td>1587.0</td>\n",
       "      <td>31.0</td>\n",
       "      <td>58.5</td>\n",
       "      <td>857_1</td>\n",
       "      <td>857</td>\n",
       "    </tr>\n",
       "    <tr>\n",
       "      <th>575086</th>\n",
       "      <td>933</td>\n",
       "      <td>5.0</td>\n",
       "      <td>147.0</td>\n",
       "      <td>1299.0</td>\n",
       "      <td>1600.0</td>\n",
       "      <td>31.0</td>\n",
       "      <td>58.7</td>\n",
       "      <td>857_1</td>\n",
       "      <td>857</td>\n",
       "    </tr>\n",
       "  </tbody>\n",
       "</table>\n",
       "<p>575087 rows × 9 columns</p>\n",
       "</div>"
      ],
      "text/plain": [
       "        time  Speed     HR     VO2    VCO2    RR    VE ID_test   ID\n",
       "0          0    5.0   63.0   478.0   360.0  27.0  13.3     2_1    2\n",
       "1          2    5.0   75.0   401.0   295.0  23.0  10.3     2_1    2\n",
       "2          4    5.0   82.0   449.0   319.0  29.0  12.2     2_1    2\n",
       "3          7    5.0   87.0   461.0   340.0  28.0  12.8     2_1    2\n",
       "4          9    5.0   92.0   574.0   417.0  28.0  14.6     2_1    2\n",
       "...      ...    ...    ...     ...     ...   ...   ...     ...  ...\n",
       "575082   926    5.0  148.0  1350.0  1699.0  35.0  65.7   857_1  857\n",
       "575083   927    5.0  147.0  1275.0  1605.0  32.0  60.1   857_1  857\n",
       "575084   929    5.0  147.0  1259.0  1566.0  29.0  57.0   857_1  857\n",
       "575085   931    5.0  147.0  1278.0  1587.0  31.0  58.5   857_1  857\n",
       "575086   933    5.0  147.0  1299.0  1600.0  31.0  58.7   857_1  857\n",
       "\n",
       "[575087 rows x 9 columns]"
      ]
     },
     "execution_count": 11,
     "metadata": {},
     "output_type": "execute_result"
    }
   ],
   "source": [
    "df2\n"
   ]
  },
  {
   "cell_type": "code",
   "execution_count": null,
   "id": "10797c4f-ce22-4b01-9b75-2ba7c7b5278b",
   "metadata": {},
   "outputs": [],
   "source": []
  },
  {
   "cell_type": "markdown",
   "id": "a4a667a8-6a6f-49de-9b7d-d8d25ca0cff7",
   "metadata": {},
   "source": [
    "#### 17. Display a histogram showing the distribution of athletes by their BMI values."
   ]
  },
  {
   "cell_type": "code",
   "execution_count": 12,
   "id": "19487bbe-1b88-4cdf-a720-e9a858e249c4",
   "metadata": {},
   "outputs": [
    {
     "data": {
      "image/png": "[encoded data removed]",
      "text/plain": [
       "<Figure size 600x600 with 1 Axes>"
      ]
     },
     "metadata": {},
     "output_type": "display_data"
    }
   ],
   "source": [
    "df_copy = df1.copy()\n",
    "\n",
    "df_copy['Height_m'] = df_copy['Height']/100  #height im cm to height in m\n",
    "df_copy['BMI'] = df_copy['Weight']/ (df_copy['Height_m']**2)  \n",
    "df_copy['BMI']\n",
    "\n",
    "#creating histogram\n",
    "plt.figure(figsize=(6,6))\n",
    "plt.hist(df_copy['BMI'], bins=10, color='salmon')\n",
    "plt.title('Distribution of Athletes by BMI Values')\n",
    "plt.xlabel('BMI')\n",
    "plt.ylabel('Athletes Distribution')\n",
    "plt.grid(axis='y', linestyle='--', alpha=0.6)\n",
    "plt.show()\n"
   ]
  },
  {
   "cell_type": "markdown",
   "id": "087d1ced-ccf4-4017-afed-8826a1ca5fd8",
   "metadata": {},
   "source": [
    "#### 18. Who is the tallest participant in the dataset? What is his/her Vo2 kg/ml?"
   ]
  },
  {
   "cell_type": "code",
   "execution_count": 13,
   "id": "7bdcd7c3-6c5f-42d9-8a1f-1f869dcf2def",
   "metadata": {},
   "outputs": [
    {
     "name": "stdout",
     "output_type": "stream",
     "text": [
      "Tallest participant ID is: 94 and her VO2 value is: 8.64Kg/ml\n"
     ]
    }
   ],
   "source": [
    "# Merge df1 and df2 based on the 'ID' column\n",
    "df = pd.merge(df1, df2, on='ID')\n",
    "\n",
    "# find the max height value\n",
    "max_height = df['Height'].max()\n",
    "\n",
    "# to get the first row where the height is the maximum\n",
    "tallest_participant = df[df['Height'] == max_height].iloc[0]\n",
    "\n",
    "#Vo2 for the tallest participant. \n",
    "participant_weight = tallest_participant['Weight']\n",
    "VO2_ml_per_min = tallest_participant['VO2']\n",
    "VO2_ml_per_kg_min = VO2_ml_per_min / participant_weight  #we have Vo2 in mL/min, change to Kg/ml\n",
    "\n",
    "#Print the ID,Height and VO2\n",
    "print(f\"Tallest participant ID is: {tallest_participant['ID']} and her VO2 value is: {VO2_ml_per_kg_min:.2f}Kg/ml\")\n"
   ]
  },
  {
   "cell_type": "markdown",
   "id": "33059e0a-7bfd-4f5a-aba7-84b7269db1e2",
   "metadata": {},
   "source": [
    "#### 19. What is the highest recorded heart rate ? Identify the patient with the highest recorded heart rate."
   ]
  },
  {
   "cell_type": "code",
   "execution_count": 14,
   "id": "95bbc784-8d8d-4454-9e88-1763b2289060",
   "metadata": {},
   "outputs": [
    {
     "name": "stdout",
     "output_type": "stream",
     "text": [
      "Highest heart rate patient ID is: 619 and heart rate is: 226.0\n"
     ]
    }
   ],
   "source": [
    "highest_HR = df2['HR'].max()\n",
    "highest_HR_patient = df2[df2['HR'] == highest_HR].iloc[0]\n",
    "\n",
    "print(f\"Highest heart rate patient ID is: {highest_HR_patient['ID']} and heart rate is: {highest_HR}\")\n"
   ]
  },
  {
   "cell_type": "markdown",
   "id": "48f4cfe8-a641-4527-96bc-7f24aab3044b",
   "metadata": {},
   "source": [
    "#### 20. What is the VO2 max(mL/kg/min) of the shortest male athlete?"
   ]
  },
  {
   "cell_type": "code",
   "execution_count": 15,
   "id": "9296092e-abe4-4b9e-bb1b-6178f30485fa",
   "metadata": {},
   "outputs": [
    {
     "name": "stdout",
     "output_type": "stream",
     "text": [
      "Shortest male athlete's ID is: 367 and his VO2 max is: 6.45mL/kg/min\n"
     ]
    }
   ],
   "source": [
    "# Merge df1 and df2 based on the 'ID' column\n",
    "df = pd.merge(df1, df2, on='ID')\n",
    "\n",
    "male_athlete = df[df['Sex']==0]  # for male= 0\n",
    "min_height = male_athlete['Height'].min()\n",
    "\n",
    "#shortest male athlete\n",
    "shortest_male_athlete = male_athlete[male_athlete['Height'] == min_height].iloc[0]\n",
    "\n",
    "#shortest_male_athlete weight & VO2\n",
    "shortest_male_athlete_weight = shortest_male_athlete['Weight']\n",
    "VO2_ml_per_min =shortest_male_athlete['VO2']\n",
    "\n",
    "VO2_ml_per_kg_min = (VO2_ml_per_min / shortest_male_athlete_weight).max() #we have VO2 in mL/min, change to mL/kg/min\n",
    "\n",
    "print(f\"Shortest male athlete's ID is: {shortest_male_athlete['ID']} and his VO2 max is: {VO2_ml_per_kg_min:.2f}mL/kg/min\")\n"
   ]
  },
  {
   "cell_type": "markdown",
   "id": "c82eb5df-b1c5-4531-8165-668c574cdc33",
   "metadata": {},
   "source": [
    "#### 21. Analyze the mean VO2 and VCO2 values by humidity level using a Multiseries Bar Chart.\n",
    "#### Based on your findings, how does low humidity affect respiratory and cardiovascular function during exercise (VO2 and VCO2) ?\n",
    "#### Humidity level (<30 - Low) , (30 to 60 - Normal ) ,(>60 - High)"
   ]
  },
  {
   "cell_type": "markdown",
   "id": "29968e7d-c0bb-4408-abd7-ba733271bad4",
   "metadata": {},
   "source": []
  },
  {
   "cell_type": "code",
   "execution_count": null,
   "id": "d6ab0182-e80c-41a4-9931-1dc7745d3109",
   "metadata": {},
   "outputs": [],
   "source": []
  },
  {
   "cell_type": "code",
   "execution_count": null,
   "id": "0a8cda7e-c17e-4d7b-983b-452cadb7cb9c",
   "metadata": {},
   "outputs": [],
   "source": []
  },
  {
   "cell_type": "markdown",
   "id": "173ee80b",
   "metadata": {},
   "source": []
  },
  {
   "cell_type": "markdown",
   "id": "348d6c24-bdec-4b3b-919d-31f2d2c6db45",
   "metadata": {},
   "source": [
    "#### 22. Display the average speed of each participant in ' peak exercise' based on RER (Following question no.14)"
   ]
  },
  {
   "cell_type": "code",
   "execution_count": 21,
   "id": "7de83424-7928-418a-abf3-ddd816f5474c",
   "metadata": {},
   "outputs": [
    {
     "name": "stdout",
     "output_type": "stream",
     "text": [
      "      ID      Speed\n",
      "0      1   9.892920\n",
      "1      2  10.850575\n",
      "2      3  12.000597\n",
      "3      4  10.787342\n",
      "4      5   9.007265\n",
      "..   ...        ...\n",
      "852  853   8.858986\n",
      "853  854   6.149524\n",
      "854  855  12.110079\n",
      "855  856  10.712664\n",
      "856  857  10.231186\n",
      "\n",
      "[857 rows x 2 columns]\n"
     ]
    }
   ],
   "source": [
    "df2_copy = df2.copy()\n",
    "\n",
    "df2_copy['RER'] = df2_copy['VCO2'] /df2_copy['VO2'] # find out RER = VCO2/VO2\n",
    "\n",
    "#Exercise phases\n",
    "def excercise_phases(RER):\n",
    "    if RER < 0.85:\n",
    "        return 'warmup'\n",
    "    elif 0.85 <= RER < 1.00:\n",
    "        return 'moderate'\n",
    "    else:\n",
    "        return 'peak exercise'\n",
    "\n",
    "df2_copy['excercise_phases'] = df2_copy['RER'].apply(excercise_phases)\n",
    "\n",
    "\n",
    "# Filter for Peak Exercise rows\n",
    "peak_exercise = df2_copy[df2_copy['excercise_phases'] == 'peak exercise']\n",
    "\n",
    "# Group by participant and calculate average speed\n",
    "average_speed_in_peak_excer = peak_exercise.groupby('ID')['Speed'].mean().reset_index()\n",
    "\n",
    "# Rename columns nicely\n",
    "#average_speed_peak.columns = ['Participant_ID', 'Average Speed (Peak Exercise)']\n",
    "\n",
    "# Display\n",
    "print(average_speed_in_peak_excer)\n"
   ]
  },
  {
   "cell_type": "markdown",
   "id": "fdd7000d-1185-4e2c-bdc7-2cfa9468c203",
   "metadata": {},
   "source": [
    "#### 23. Assign one of the following 5 heart rate zones for every Athletes and add this as a column to a new table with all unique IDs.\n",
    "   \n",
    "  Exclude Warm-Up Phase\n",
    " \n",
    "  Zone 1 (recovery/easy) <100 HR max\n",
    "  Zone 2 (aerobic/base) 100-120 HR max\n",
    "  Zone 3 (tempo) 120-135 HR max\n",
    "  Zone 4 (lactate threshold) 135-155 HR max\n",
    "  Zone 5 (anaerobic) 155+ HR max and above\""
   ]
  },
  {
   "cell_type": "code",
   "execution_count": null,
   "id": "ac9dffcb-23b6-4986-81dc-f953322752d9",
   "metadata": {},
   "outputs": [],
   "source": []
  },
  {
   "cell_type": "markdown",
   "id": "8cea7c3f",
   "metadata": {},
   "source": [
    "#### 24. Find the athlete who has got optimal respiratory stability based on the measure of Breathing Interval variability over time."
   ]
  },
  {
   "cell_type": "markdown",
   "id": "e59eb862-3679-4e21-9e2d-a5f9d0a625ca",
   "metadata": {},
   "source": [
    "#### 25. Generate a pie chart to show the gender-wise distribution of athletes."
   ]
  },
  {
   "cell_type": "code",
   "execution_count": null,
   "id": "7c42986a-5539-4734-8f85-2c1bda8245ab",
   "metadata": {},
   "outputs": [
    {
     "data": {
      "image/png": "[encoded data removed]",
      "text/plain": [
       "<Figure size 600x600 with 1 Axes>"
      ]
     },
     "metadata": {},
     "output_type": "display_data"
    }
   ],
   "source": [
    "# Count gender distribution\n",
    "M_F_counts = df1['Sex'].value_counts()\n",
    "\n",
    "# pie chart\n",
    "plt.figure(figsize=(6, 6))\n",
    "plt.pie(M_F_counts, labels=M_F_counts.index, autopct='%.2f%%', startangle=90, colors=['dodgerblue', 'pink']) # 1= female, 0=male\n",
    "plt.title('Gender_wise Distribution of Athletes')\n",
    "\n",
    "\n",
    "# Show the plot\n",
    "plt.show()"
   ]
  },
  {
   "cell_type": "code",
   "execution_count": null,
   "id": "44cac72b-dfc8-4724-8eae-f229042ad708",
   "metadata": {},
   "outputs": [],
   "source": []
  },
  {
   "cell_type": "code",
   "execution_count": null,
   "id": "f4af5ba2-0344-4468-910d-d6aefb6734cd",
   "metadata": {},
   "outputs": [],
   "source": []
  },
  {
   "cell_type": "code",
   "execution_count": null,
   "id": "7918f0f4-c577-4e2e-b99d-270adc202bfa",
   "metadata": {},
   "outputs": [],
   "source": []
  },
  {
   "cell_type": "markdown",
   "id": "6b6bfe87-f46f-4bb5-9c8a-a972b83f27d4",
   "metadata": {},
   "source": [
    "#### 27. Create a sunburst chart to show the distribution of athletes based on Sex, BMI levels, and Age ranges."
   ]
  },
  {
   "cell_type": "code",
   "execution_count": null,
   "id": "7c9c1ffb-dcec-4c12-8f1a-97e86521ad39",
   "metadata": {},
   "outputs": [
    {
     "data": {
      "application/vnd.plotly.v1+json": {
       "config": {
        "plotlyServerURL": "https://plot.ly"
       },
       "data": [
        {
         "branchvalues": "total",
         "customdata": [
          [
           "Female"
          ],
          [
           "Male"
          ],
          [
           "Female"
          ],
          [
           "Male"
          ],
          [
           "Female"
          ],
          [
           "Male"
          ],
          [
           "Female"
          ],
          [
           "Male"
          ],
          [
           "Female"
          ],
          [
           "Female"
          ],
          [
           "Female"
          ],
          [
           "Male"
          ],
          [
           "Female"
          ],
          [
           "Male"
          ],
          [
           "Female"
          ],
          [
           "Male"
          ],
          [
           "Male"
          ],
          [
           "Female"
          ],
          [
           "Female"
          ],
          [
           "Female"
          ],
          [
           "Male"
          ],
          [
           "Male"
          ],
          [
           "Female"
          ],
          [
           "Male"
          ],
          [
           "Female"
          ],
          [
           "Male"
          ],
          [
           "Male"
          ],
          [
           "Male"
          ],
          [
           "Male"
          ],
          [
           "Female"
          ],
          [
           "Female"
          ],
          [
           "Male"
          ],
          [
           "Female"
          ],
          [
           "Male"
          ],
          [
           "Female"
          ],
          [
           "Male"
          ]
         ],
         "domain": {
          "x": [
           0,
           1
          ],
          "y": [
           0,
           1
          ]
         },
         "hovertemplate": "labels=%{label}<br>count=%{value}<br>parent=%{parent}<br>id=%{id}<br>Sex=%{customdata[0]}<extra></extra>",
         "ids": [
          "Female/Normal weight/Adult",
          "Male/Normal weight/Adult",
          "Female/Overweight/Adult",
          "Male/Normal weight/Young Adult",
          "Female/Obesity/Young Adult",
          "Male/Obesity/Young Adult",
          "Female/Overweight/Young Adult",
          "Male/Overweight/Young Adult",
          "Female/Underweight/Young Adult",
          "Female/Normal weight",
          "Female/Obesity",
          "Male/Obesity",
          "Female/Overweight",
          "Male/Overweight",
          "Female/Underweight",
          "Male/Underweight",
          "Male/Normal weight",
          "Female/Normal weight/Young Adult",
          "Female/Underweight/Teen",
          "Female",
          "Male/Obesity/Adult",
          "Male/Overweight/Adult",
          "Female/Underweight/Adult",
          "Male/Underweight/Adult",
          "Female/Normal weight/Senior",
          "Male/Normal weight/Senior",
          "Male/Underweight/Teen",
          "Male/Obesity/Senior",
          "Male/Overweight/Senior",
          "Female/Underweight/Senior",
          "Female/Normal weight/Teen",
          "Male/Normal weight/Teen",
          "Female/Overweight/Teen",
          "Male/Overweight/Teen",
          "Female/Overweight/Senior",
          "Male"
         ],
         "labels": [
          "Adult",
          "Adult",
          "Adult",
          "Young Adult",
          "Young Adult",
          "Young Adult",
          "Young Adult",
          "Young Adult",
          "Young Adult",
          "Normal weight",
          "Obesity",
          "Obesity",
          "Overweight",
          "Overweight",
          "Underweight",
          "Underweight",
          "Normal weight",
          "Young Adult",
          "Teen",
          "Female",
          "Adult",
          "Adult",
          "Adult",
          "Adult",
          "Senior",
          "Senior",
          "Teen",
          "Senior",
          "Senior",
          "Senior",
          "Teen",
          "Teen",
          "Teen",
          "Teen",
          "Senior",
          "Male"
         ],
         "marker": {
          "colors": [
           "hotpink",
           "deepskyblue",
           "hotpink",
           "deepskyblue",
           "hotpink",
           "deepskyblue",
           "hotpink",
           "deepskyblue",
           "hotpink",
           "hotpink",
           "hotpink",
           "deepskyblue",
           "hotpink",
           "deepskyblue",
           "hotpink",
           "deepskyblue",
           "deepskyblue",
           "hotpink",
           "hotpink",
           "hotpink",
           "deepskyblue",
           "deepskyblue",
           "hotpink",
           "deepskyblue",
           "hotpink",
           "deepskyblue",
           "deepskyblue",
           "deepskyblue",
           "deepskyblue",
           "hotpink",
           "hotpink",
           "deepskyblue",
           "hotpink",
           "deepskyblue",
           "hotpink",
           "deepskyblue"
          ]
         },
         "name": "",
         "parents": [
          "Female/Normal weight",
          "Male/Normal weight",
          "Female/Overweight",
          "Male/Normal weight",
          "Female/Obesity",
          "Male/Obesity",
          "Female/Overweight",
          "Male/Overweight",
          "Female/Underweight",
          "Female",
          "Female",
          "Male",
          "Female",
          "Male",
          "Female",
          "Male",
          "Male",
          "Female/Normal weight",
          "Female/Underweight",
          "",
          "Male/Obesity",
          "Male/Overweight",
          "Female/Underweight",
          "Male/Underweight",
          "Female/Normal weight",
          "Male/Normal weight",
          "Male/Underweight",
          "Male/Obesity",
          "Male/Overweight",
          "Female/Underweight",
          "Female/Normal weight",
          "Male/Normal weight",
          "Female/Overweight",
          "Male/Overweight",
          "Female/Overweight",
          ""
         ],
         "type": "sunburst",
         "values": [
          26,
          140,
          1,
          216,
          1,
          12,
          11,
          88,
          5,
          118,
          1,
          24,
          20,
          249,
          10,
          18,
          552,
          45,
          2,
          149,
          8,
          72,
          1,
          1,
          11,
          77,
          17,
          4,
          61,
          2,
          36,
          119,
          7,
          28,
          1,
          843
         ]
        }
       ],
       "layout": {
        "autosize": true,
        "legend": {
         "tracegroupgap": 0
        },
        "template": {
         "data": {
          "bar": [
           {
            "error_x": {
             "color": "#2a3f5f"
            },
            "error_y": {
             "color": "#2a3f5f"
            },
            "marker": {
             "line": {
              "color": "#E5ECF6",
              "width": 0.5
             },
             "pattern": {
              "fillmode": "overlay",
              "size": 10,
              "solidity": 0.2
             }
            },
            "type": "bar"
           }
          ],
          "barpolar": [
           {
            "marker": {
             "line": {
              "color": "#E5ECF6",
              "width": 0.5
             },
             "pattern": {
              "fillmode": "overlay",
              "size": 10,
              "solidity": 0.2
             }
            },
            "type": "barpolar"
           }
          ],
          "carpet": [
           {
            "aaxis": {
             "endlinecolor": "#2a3f5f",
             "gridcolor": "white",
             "linecolor": "white",
             "minorgridcolor": "white",
             "startlinecolor": "#2a3f5f"
            },
            "baxis": {
             "endlinecolor": "#2a3f5f",
             "gridcolor": "white",
             "linecolor": "white",
             "minorgridcolor": "white",
             "startlinecolor": "#2a3f5f"
            },
            "type": "carpet"
           }
          ],
          "choropleth": [
           {
            "colorbar": {
             "outlinewidth": 0,
             "ticks": ""
            },
            "type": "choropleth"
           }
          ],
          "contour": [
           {
            "colorbar": {
             "outlinewidth": 0,
             "ticks": ""
            },
            "colorscale": [
             [
              0,
              "#0d0887"
             ],
             [
              0.1111111111111111,
              "#46039f"
             ],
             [
              0.2222222222222222,
              "#7201a8"
             ],
             [
              0.3333333333333333,
              "#9c179e"
             ],
             [
              0.4444444444444444,
              "#bd3786"
             ],
             [
              0.5555555555555556,
              "#d8576b"
             ],
             [
              0.6666666666666666,
              "#ed7953"
             ],
             [
              0.7777777777777778,
              "#fb9f3a"
             ],
             [
              0.8888888888888888,
              "#fdca26"
             ],
             [
              1,
              "#f0f921"
             ]
            ],
            "type": "contour"
           }
          ],
          "contourcarpet": [
           {
            "colorbar": {
             "outlinewidth": 0,
             "ticks": ""
            },
            "type": "contourcarpet"
           }
          ],
          "heatmap": [
           {
            "colorbar": {
             "outlinewidth": 0,
             "ticks": ""
            },
            "colorscale": [
             [
              0,
              "#0d0887"
             ],
             [
              0.1111111111111111,
              "#46039f"
             ],
             [
              0.2222222222222222,
              "#7201a8"
             ],
             [
              0.3333333333333333,
              "#9c179e"
             ],
             [
              0.4444444444444444,
              "#bd3786"
             ],
             [
              0.5555555555555556,
              "#d8576b"
             ],
             [
              0.6666666666666666,
              "#ed7953"
             ],
             [
              0.7777777777777778,
              "#fb9f3a"
             ],
             [
              0.8888888888888888,
              "#fdca26"
             ],
             [
              1,
              "#f0f921"
             ]
            ],
            "type": "heatmap"
           }
          ],
          "heatmapgl": [
           {
            "colorbar": {
             "outlinewidth": 0,
             "ticks": ""
            },
            "colorscale": [
             [
              0,
              "#0d0887"
             ],
             [
              0.1111111111111111,
              "#46039f"
             ],
             [
              0.2222222222222222,
              "#7201a8"
             ],
             [
              0.3333333333333333,
              "#9c179e"
             ],
             [
              0.4444444444444444,
              "#bd3786"
             ],
             [
              0.5555555555555556,
              "#d8576b"
             ],
             [
              0.6666666666666666,
              "#ed7953"
             ],
             [
              0.7777777777777778,
              "#fb9f3a"
             ],
             [
              0.8888888888888888,
              "#fdca26"
             ],
             [
              1,
              "#f0f921"
             ]
            ],
            "type": "heatmapgl"
           }
          ],
          "histogram": [
           {
            "marker": {
             "pattern": {
              "fillmode": "overlay",
              "size": 10,
              "solidity": 0.2
             }
            },
            "type": "histogram"
           }
          ],
          "histogram2d": [
           {
            "colorbar": {
             "outlinewidth": 0,
             "ticks": ""
            },
            "colorscale": [
             [
              0,
              "#0d0887"
             ],
             [
              0.1111111111111111,
              "#46039f"
             ],
             [
              0.2222222222222222,
              "#7201a8"
             ],
             [
              0.3333333333333333,
              "#9c179e"
             ],
             [
              0.4444444444444444,
              "#bd3786"
             ],
             [
              0.5555555555555556,
              "#d8576b"
             ],
             [
              0.6666666666666666,
              "#ed7953"
             ],
             [
              0.7777777777777778,
              "#fb9f3a"
             ],
             [
              0.8888888888888888,
              "#fdca26"
             ],
             [
              1,
              "#f0f921"
             ]
            ],
            "type": "histogram2d"
           }
          ],
          "histogram2dcontour": [
           {
            "colorbar": {
             "outlinewidth": 0,
             "ticks": ""
            },
            "colorscale": [
             [
              0,
              "#0d0887"
             ],
             [
              0.1111111111111111,
              "#46039f"
             ],
             [
              0.2222222222222222,
              "#7201a8"
             ],
             [
              0.3333333333333333,
              "#9c179e"
             ],
             [
              0.4444444444444444,
              "#bd3786"
             ],
             [
              0.5555555555555556,
              "#d8576b"
             ],
             [
              0.6666666666666666,
              "#ed7953"
             ],
             [
              0.7777777777777778,
              "#fb9f3a"
             ],
             [
              0.8888888888888888,
              "#fdca26"
             ],
             [
              1,
              "#f0f921"
             ]
            ],
            "type": "histogram2dcontour"
           }
          ],
          "mesh3d": [
           {
            "colorbar": {
             "outlinewidth": 0,
             "ticks": ""
            },
            "type": "mesh3d"
           }
          ],
          "parcoords": [
           {
            "line": {
             "colorbar": {
              "outlinewidth": 0,
              "ticks": ""
             }
            },
            "type": "parcoords"
           }
          ],
          "pie": [
           {
            "automargin": true,
            "type": "pie"
           }
          ],
          "scatter": [
           {
            "fillpattern": {
             "fillmode": "overlay",
             "size": 10,
             "solidity": 0.2
            },
            "type": "scatter"
           }
          ],
          "scatter3d": [
           {
            "line": {
             "colorbar": {
              "outlinewidth": 0,
              "ticks": ""
             }
            },
            "marker": {
             "colorbar": {
              "outlinewidth": 0,
              "ticks": ""
             }
            },
            "type": "scatter3d"
           }
          ],
          "scattercarpet": [
           {
            "marker": {
             "colorbar": {
              "outlinewidth": 0,
              "ticks": ""
             }
            },
            "type": "scattercarpet"
           }
          ],
          "scattergeo": [
           {
            "marker": {
             "colorbar": {
              "outlinewidth": 0,
              "ticks": ""
             }
            },
            "type": "scattergeo"
           }
          ],
          "scattergl": [
           {
            "marker": {
             "colorbar": {
              "outlinewidth": 0,
              "ticks": ""
             }
            },
            "type": "scattergl"
           }
          ],
          "scattermapbox": [
           {
            "marker": {
             "colorbar": {
              "outlinewidth": 0,
              "ticks": ""
             }
            },
            "type": "scattermapbox"
           }
          ],
          "scatterpolar": [
           {
            "marker": {
             "colorbar": {
              "outlinewidth": 0,
              "ticks": ""
             }
            },
            "type": "scatterpolar"
           }
          ],
          "scatterpolargl": [
           {
            "marker": {
             "colorbar": {
              "outlinewidth": 0,
              "ticks": ""
             }
            },
            "type": "scatterpolargl"
           }
          ],
          "scatterternary": [
           {
            "marker": {
             "colorbar": {
              "outlinewidth": 0,
              "ticks": ""
             }
            },
            "type": "scatterternary"
           }
          ],
          "surface": [
           {
            "colorbar": {
             "outlinewidth": 0,
             "ticks": ""
            },
            "colorscale": [
             [
              0,
              "#0d0887"
             ],
             [
              0.1111111111111111,
              "#46039f"
             ],
             [
              0.2222222222222222,
              "#7201a8"
             ],
             [
              0.3333333333333333,
              "#9c179e"
             ],
             [
              0.4444444444444444,
              "#bd3786"
             ],
             [
              0.5555555555555556,
              "#d8576b"
             ],
             [
              0.6666666666666666,
              "#ed7953"
             ],
             [
              0.7777777777777778,
              "#fb9f3a"
             ],
             [
              0.8888888888888888,
              "#fdca26"
             ],
             [
              1,
              "#f0f921"
             ]
            ],
            "type": "surface"
           }
          ],
          "table": [
           {
            "cells": {
             "fill": {
              "color": "#EBF0F8"
             },
             "line": {
              "color": "white"
             }
            },
            "header": {
             "fill": {
              "color": "#C8D4E3"
             },
             "line": {
              "color": "white"
             }
            },
            "type": "table"
           }
          ]
         },
         "layout": {
          "annotationdefaults": {
           "arrowcolor": "#2a3f5f",
           "arrowhead": 0,
           "arrowwidth": 1
          },
          "autotypenumbers": "strict",
          "coloraxis": {
           "colorbar": {
            "outlinewidth": 0,
            "ticks": ""
           }
          },
          "colorscale": {
           "diverging": [
            [
             0,
             "#8e0152"
            ],
            [
             0.1,
             "#c51b7d"
            ],
            [
             0.2,
             "#de77ae"
            ],
            [
             0.3,
             "#f1b6da"
            ],
            [
             0.4,
             "#fde0ef"
            ],
            [
             0.5,
             "#f7f7f7"
            ],
            [
             0.6,
             "#e6f5d0"
            ],
            [
             0.7,
             "#b8e186"
            ],
            [
             0.8,
             "#7fbc41"
            ],
            [
             0.9,
             "#4d9221"
            ],
            [
             1,
             "#276419"
            ]
           ],
           "sequential": [
            [
             0,
             "#0d0887"
            ],
            [
             0.1111111111111111,
             "#46039f"
            ],
            [
             0.2222222222222222,
             "#7201a8"
            ],
            [
             0.3333333333333333,
             "#9c179e"
            ],
            [
             0.4444444444444444,
             "#bd3786"
            ],
            [
             0.5555555555555556,
             "#d8576b"
            ],
            [
             0.6666666666666666,
             "#ed7953"
            ],
            [
             0.7777777777777778,
             "#fb9f3a"
            ],
            [
             0.8888888888888888,
             "#fdca26"
            ],
            [
             1,
             "#f0f921"
            ]
           ],
           "sequentialminus": [
            [
             0,
             "#0d0887"
            ],
            [
             0.1111111111111111,
             "#46039f"
            ],
            [
             0.2222222222222222,
             "#7201a8"
            ],
            [
             0.3333333333333333,
             "#9c179e"
            ],
            [
             0.4444444444444444,
             "#bd3786"
            ],
            [
             0.5555555555555556,
             "#d8576b"
            ],
            [
             0.6666666666666666,
             "#ed7953"
            ],
            [
             0.7777777777777778,
             "#fb9f3a"
            ],
            [
             0.8888888888888888,
             "#fdca26"
            ],
            [
             1,
             "#f0f921"
            ]
           ]
          },
          "colorway": [
           "#636efa",
           "#EF553B",
           "#00cc96",
           "#ab63fa",
           "#FFA15A",
           "#19d3f3",
           "#FF6692",
           "#B6E880",
           "#FF97FF",
           "#FECB52"
          ],
          "font": {
           "color": "#2a3f5f"
          },
          "geo": {
           "bgcolor": "white",
           "lakecolor": "white",
           "landcolor": "#E5ECF6",
           "showlakes": true,
           "showland": true,
           "subunitcolor": "white"
          },
          "hoverlabel": {
           "align": "left"
          },
          "hovermode": "closest",
          "mapbox": {
           "style": "light"
          },
          "paper_bgcolor": "white",
          "plot_bgcolor": "#E5ECF6",
          "polar": {
           "angularaxis": {
            "gridcolor": "white",
            "linecolor": "white",
            "ticks": ""
           },
           "bgcolor": "#E5ECF6",
           "radialaxis": {
            "gridcolor": "white",
            "linecolor": "white",
            "ticks": ""
           }
          },
          "scene": {
           "xaxis": {
            "backgroundcolor": "#E5ECF6",
            "gridcolor": "white",
            "gridwidth": 2,
            "linecolor": "white",
            "showbackground": true,
            "ticks": "",
            "zerolinecolor": "white"
           },
           "yaxis": {
            "backgroundcolor": "#E5ECF6",
            "gridcolor": "white",
            "gridwidth": 2,
            "linecolor": "white",
            "showbackground": true,
            "ticks": "",
            "zerolinecolor": "white"
           },
           "zaxis": {
            "backgroundcolor": "#E5ECF6",
            "gridcolor": "white",
            "gridwidth": 2,
            "linecolor": "white",
            "showbackground": true,
            "ticks": "",
            "zerolinecolor": "white"
           }
          },
          "shapedefaults": {
           "line": {
            "color": "#2a3f5f"
           }
          },
          "ternary": {
           "aaxis": {
            "gridcolor": "white",
            "linecolor": "white",
            "ticks": ""
           },
           "baxis": {
            "gridcolor": "white",
            "linecolor": "white",
            "ticks": ""
           },
           "bgcolor": "#E5ECF6",
           "caxis": {
            "gridcolor": "white",
            "linecolor": "white",
            "ticks": ""
           }
          },
          "title": {
           "x": 0.05
          },
          "xaxis": {
           "automargin": true,
           "gridcolor": "white",
           "linecolor": "white",
           "ticks": "",
           "title": {
            "standoff": 15
           },
           "zerolinecolor": "white",
           "zerolinewidth": 2
          },
          "yaxis": {
           "automargin": true,
           "gridcolor": "white",
           "linecolor": "white",
           "ticks": "",
           "title": {
            "standoff": 15
           },
           "zerolinecolor": "white",
           "zerolinewidth": 2
          }
         }
        },
        "title": {
         "text": "Distribution of Athletes by Sex, BMI and Age"
        }
       }
      },
      "image/png": "[encoded data removed]",
      "text/html": [
       "<div>                            <div id=\"e2cdd398-39b9-4e5d-be45-f9e0f618bab3\" class=\"plotly-graph-div\" style=\"height:525px; width:100%;\"></div>            <script type=\"text/javascript\">                require([\"plotly\"], function(Plotly) {                    window.PLOTLYENV=window.PLOTLYENV || {};                                    if (document.getElementById(\"e2cdd398-39b9-4e5d-be45-f9e0f618bab3\")) {                    Plotly.newPlot(                        \"e2cdd398-39b9-4e5d-be45-f9e0f618bab3\",                        [{\"branchvalues\":\"total\",\"customdata\":[[\"Female\"],[\"Male\"],[\"Female\"],[\"Male\"],[\"Female\"],[\"Male\"],[\"Female\"],[\"Male\"],[\"Female\"],[\"Female\"],[\"Female\"],[\"Male\"],[\"Female\"],[\"Male\"],[\"Female\"],[\"Male\"],[\"Male\"],[\"Female\"],[\"Female\"],[\"Female\"],[\"Male\"],[\"Male\"],[\"Female\"],[\"Male\"],[\"Female\"],[\"Male\"],[\"Male\"],[\"Male\"],[\"Male\"],[\"Female\"],[\"Female\"],[\"Male\"],[\"Female\"],[\"Male\"],[\"Female\"],[\"Male\"]],\"domain\":{\"x\":[0.0,1.0],\"y\":[0.0,1.0]},\"hovertemplate\":\"labels=%{label}<br>count=%{value}<br>parent=%{parent}<br>id=%{id}<br>Sex=%{customdata[0]}<extra></extra>\",\"ids\":[\"Female/Normal weight/Adult\",\"Male/Normal weight/Adult\",\"Female/Overweight/Adult\",\"Male/Normal weight/Young Adult\",\"Female/Obesity/Young Adult\",\"Male/Obesity/Young Adult\",\"Female/Overweight/Young Adult\",\"Male/Overweight/Young Adult\",\"Female/Underweight/Young Adult\",\"Female/Normal weight\",\"Female/Obesity\",\"Male/Obesity\",\"Female/Overweight\",\"Male/Overweight\",\"Female/Underweight\",\"Male/Underweight\",\"Male/Normal weight\",\"Female/Normal weight/Young Adult\",\"Female/Underweight/Teen\",\"Female\",\"Male/Obesity/Adult\",\"Male/Overweight/Adult\",\"Female/Underweight/Adult\",\"Male/Underweight/Adult\",\"Female/Normal weight/Senior\",\"Male/Normal weight/Senior\",\"Male/Underweight/Teen\",\"Male/Obesity/Senior\",\"Male/Overweight/Senior\",\"Female/Underweight/Senior\",\"Female/Normal weight/Teen\",\"Male/Normal weight/Teen\",\"Female/Overweight/Teen\",\"Male/Overweight/Teen\",\"Female/Overweight/Senior\",\"Male\"],\"labels\":[\"Adult\",\"Adult\",\"Adult\",\"Young Adult\",\"Young Adult\",\"Young Adult\",\"Young Adult\",\"Young Adult\",\"Young Adult\",\"Normal weight\",\"Obesity\",\"Obesity\",\"Overweight\",\"Overweight\",\"Underweight\",\"Underweight\",\"Normal weight\",\"Young Adult\",\"Teen\",\"Female\",\"Adult\",\"Adult\",\"Adult\",\"Adult\",\"Senior\",\"Senior\",\"Teen\",\"Senior\",\"Senior\",\"Senior\",\"Teen\",\"Teen\",\"Teen\",\"Teen\",\"Senior\",\"Male\"],\"marker\":{\"colors\":[\"hotpink\",\"deepskyblue\",\"hotpink\",\"deepskyblue\",\"hotpink\",\"deepskyblue\",\"hotpink\",\"deepskyblue\",\"hotpink\",\"hotpink\",\"hotpink\",\"deepskyblue\",\"hotpink\",\"deepskyblue\",\"hotpink\",\"deepskyblue\",\"deepskyblue\",\"hotpink\",\"hotpink\",\"hotpink\",\"deepskyblue\",\"deepskyblue\",\"hotpink\",\"deepskyblue\",\"hotpink\",\"deepskyblue\",\"deepskyblue\",\"deepskyblue\",\"deepskyblue\",\"hotpink\",\"hotpink\",\"deepskyblue\",\"hotpink\",\"deepskyblue\",\"hotpink\",\"deepskyblue\"]},\"name\":\"\",\"parents\":[\"Female/Normal weight\",\"Male/Normal weight\",\"Female/Overweight\",\"Male/Normal weight\",\"Female/Obesity\",\"Male/Obesity\",\"Female/Overweight\",\"Male/Overweight\",\"Female/Underweight\",\"Female\",\"Female\",\"Male\",\"Female\",\"Male\",\"Female\",\"Male\",\"Male\",\"Female/Normal weight\",\"Female/Underweight\",\"\",\"Male/Obesity\",\"Male/Overweight\",\"Female/Underweight\",\"Male/Underweight\",\"Female/Normal weight\",\"Male/Normal weight\",\"Male/Underweight\",\"Male/Obesity\",\"Male/Overweight\",\"Female/Underweight\",\"Female/Normal weight\",\"Male/Normal weight\",\"Female/Overweight\",\"Male/Overweight\",\"Female/Overweight\",\"\"],\"values\":[26,140,1,216,1,12,11,88,5,118,1,24,20,249,10,18,552,45,2,149,8,72,1,1,11,77,17,4,61,2,36,119,7,28,1,843],\"type\":\"sunburst\"}],                        {\"template\":{\"data\":{\"histogram2dcontour\":[{\"type\":\"histogram2dcontour\",\"colorbar\":{\"outlinewidth\":0,\"ticks\":\"\"},\"colorscale\":[[0.0,\"#0d0887\"],[0.1111111111111111,\"#46039f\"],[0.2222222222222222,\"#7201a8\"],[0.3333333333333333,\"#9c179e\"],[0.4444444444444444,\"#bd3786\"],[0.5555555555555556,\"#d8576b\"],[0.6666666666666666,\"#ed7953\"],[0.7777777777777778,\"#fb9f3a\"],[0.8888888888888888,\"#fdca26\"],[1.0,\"#f0f921\"]]}],\"choropleth\":[{\"type\":\"choropleth\",\"colorbar\":{\"outlinewidth\":0,\"ticks\":\"\"}}],\"histogram2d\":[{\"type\":\"histogram2d\",\"colorbar\":{\"outlinewidth\":0,\"ticks\":\"\"},\"colorscale\":[[0.0,\"#0d0887\"],[0.1111111111111111,\"#46039f\"],[0.2222222222222222,\"#7201a8\"],[0.3333333333333333,\"#9c179e\"],[0.4444444444444444,\"#bd3786\"],[0.5555555555555556,\"#d8576b\"],[0.6666666666666666,\"#ed7953\"],[0.7777777777777778,\"#fb9f3a\"],[0.8888888888888888,\"#fdca26\"],[1.0,\"#f0f921\"]]}],\"heatmap\":[{\"type\":\"heatmap\",\"colorbar\":{\"outlinewidth\":0,\"ticks\":\"\"},\"colorscale\":[[0.0,\"#0d0887\"],[0.1111111111111111,\"#46039f\"],[0.2222222222222222,\"#7201a8\"],[0.3333333333333333,\"#9c179e\"],[0.4444444444444444,\"#bd3786\"],[0.5555555555555556,\"#d8576b\"],[0.6666666666666666,\"#ed7953\"],[0.7777777777777778,\"#fb9f3a\"],[0.8888888888888888,\"#fdca26\"],[1.0,\"#f0f921\"]]}],\"heatmapgl\":[{\"type\":\"heatmapgl\",\"colorbar\":{\"outlinewidth\":0,\"ticks\":\"\"},\"colorscale\":[[0.0,\"#0d0887\"],[0.1111111111111111,\"#46039f\"],[0.2222222222222222,\"#7201a8\"],[0.3333333333333333,\"#9c179e\"],[0.4444444444444444,\"#bd3786\"],[0.5555555555555556,\"#d8576b\"],[0.6666666666666666,\"#ed7953\"],[0.7777777777777778,\"#fb9f3a\"],[0.8888888888888888,\"#fdca26\"],[1.0,\"#f0f921\"]]}],\"contourcarpet\":[{\"type\":\"contourcarpet\",\"colorbar\":{\"outlinewidth\":0,\"ticks\":\"\"}}],\"contour\":[{\"type\":\"contour\",\"colorbar\":{\"outlinewidth\":0,\"ticks\":\"\"},\"colorscale\":[[0.0,\"#0d0887\"],[0.1111111111111111,\"#46039f\"],[0.2222222222222222,\"#7201a8\"],[0.3333333333333333,\"#9c179e\"],[0.4444444444444444,\"#bd3786\"],[0.5555555555555556,\"#d8576b\"],[0.6666666666666666,\"#ed7953\"],[0.7777777777777778,\"#fb9f3a\"],[0.8888888888888888,\"#fdca26\"],[1.0,\"#f0f921\"]]}],\"surface\":[{\"type\":\"surface\",\"colorbar\":{\"outlinewidth\":0,\"ticks\":\"\"},\"colorscale\":[[0.0,\"#0d0887\"],[0.1111111111111111,\"#46039f\"],[0.2222222222222222,\"#7201a8\"],[0.3333333333333333,\"#9c179e\"],[0.4444444444444444,\"#bd3786\"],[0.5555555555555556,\"#d8576b\"],[0.6666666666666666,\"#ed7953\"],[0.7777777777777778,\"#fb9f3a\"],[0.8888888888888888,\"#fdca26\"],[1.0,\"#f0f921\"]]}],\"mesh3d\":[{\"type\":\"mesh3d\",\"colorbar\":{\"outlinewidth\":0,\"ticks\":\"\"}}],\"scatter\":[{\"fillpattern\":{\"fillmode\":\"overlay\",\"size\":10,\"solidity\":0.2},\"type\":\"scatter\"}],\"parcoords\":[{\"type\":\"parcoords\",\"line\":{\"colorbar\":{\"outlinewidth\":0,\"ticks\":\"\"}}}],\"scatterpolargl\":[{\"type\":\"scatterpolargl\",\"marker\":{\"colorbar\":{\"outlinewidth\":0,\"ticks\":\"\"}}}],\"bar\":[{\"error_x\":{\"color\":\"#2a3f5f\"},\"error_y\":{\"color\":\"#2a3f5f\"},\"marker\":{\"line\":{\"color\":\"#E5ECF6\",\"width\":0.5},\"pattern\":{\"fillmode\":\"overlay\",\"size\":10,\"solidity\":0.2}},\"type\":\"bar\"}],\"scattergeo\":[{\"type\":\"scattergeo\",\"marker\":{\"colorbar\":{\"outlinewidth\":0,\"ticks\":\"\"}}}],\"scatterpolar\":[{\"type\":\"scatterpolar\",\"marker\":{\"colorbar\":{\"outlinewidth\":0,\"ticks\":\"\"}}}],\"histogram\":[{\"marker\":{\"pattern\":{\"fillmode\":\"overlay\",\"size\":10,\"solidity\":0.2}},\"type\":\"histogram\"}],\"scattergl\":[{\"type\":\"scattergl\",\"marker\":{\"colorbar\":{\"outlinewidth\":0,\"ticks\":\"\"}}}],\"scatter3d\":[{\"type\":\"scatter3d\",\"line\":{\"colorbar\":{\"outlinewidth\":0,\"ticks\":\"\"}},\"marker\":{\"colorbar\":{\"outlinewidth\":0,\"ticks\":\"\"}}}],\"scattermapbox\":[{\"type\":\"scattermapbox\",\"marker\":{\"colorbar\":{\"outlinewidth\":0,\"ticks\":\"\"}}}],\"scatterternary\":[{\"type\":\"scatterternary\",\"marker\":{\"colorbar\":{\"outlinewidth\":0,\"ticks\":\"\"}}}],\"scattercarpet\":[{\"type\":\"scattercarpet\",\"marker\":{\"colorbar\":{\"outlinewidth\":0,\"ticks\":\"\"}}}],\"carpet\":[{\"aaxis\":{\"endlinecolor\":\"#2a3f5f\",\"gridcolor\":\"white\",\"linecolor\":\"white\",\"minorgridcolor\":\"white\",\"startlinecolor\":\"#2a3f5f\"},\"baxis\":{\"endlinecolor\":\"#2a3f5f\",\"gridcolor\":\"white\",\"linecolor\":\"white\",\"minorgridcolor\":\"white\",\"startlinecolor\":\"#2a3f5f\"},\"type\":\"carpet\"}],\"table\":[{\"cells\":{\"fill\":{\"color\":\"#EBF0F8\"},\"line\":{\"color\":\"white\"}},\"header\":{\"fill\":{\"color\":\"#C8D4E3\"},\"line\":{\"color\":\"white\"}},\"type\":\"table\"}],\"barpolar\":[{\"marker\":{\"line\":{\"color\":\"#E5ECF6\",\"width\":0.5},\"pattern\":{\"fillmode\":\"overlay\",\"size\":10,\"solidity\":0.2}},\"type\":\"barpolar\"}],\"pie\":[{\"automargin\":true,\"type\":\"pie\"}]},\"layout\":{\"autotypenumbers\":\"strict\",\"colorway\":[\"#636efa\",\"#EF553B\",\"#00cc96\",\"#ab63fa\",\"#FFA15A\",\"#19d3f3\",\"#FF6692\",\"#B6E880\",\"#FF97FF\",\"#FECB52\"],\"font\":{\"color\":\"#2a3f5f\"},\"hovermode\":\"closest\",\"hoverlabel\":{\"align\":\"left\"},\"paper_bgcolor\":\"white\",\"plot_bgcolor\":\"#E5ECF6\",\"polar\":{\"bgcolor\":\"#E5ECF6\",\"angularaxis\":{\"gridcolor\":\"white\",\"linecolor\":\"white\",\"ticks\":\"\"},\"radialaxis\":{\"gridcolor\":\"white\",\"linecolor\":\"white\",\"ticks\":\"\"}},\"ternary\":{\"bgcolor\":\"#E5ECF6\",\"aaxis\":{\"gridcolor\":\"white\",\"linecolor\":\"white\",\"ticks\":\"\"},\"baxis\":{\"gridcolor\":\"white\",\"linecolor\":\"white\",\"ticks\":\"\"},\"caxis\":{\"gridcolor\":\"white\",\"linecolor\":\"white\",\"ticks\":\"\"}},\"coloraxis\":{\"colorbar\":{\"outlinewidth\":0,\"ticks\":\"\"}},\"colorscale\":{\"sequential\":[[0.0,\"#0d0887\"],[0.1111111111111111,\"#46039f\"],[0.2222222222222222,\"#7201a8\"],[0.3333333333333333,\"#9c179e\"],[0.4444444444444444,\"#bd3786\"],[0.5555555555555556,\"#d8576b\"],[0.6666666666666666,\"#ed7953\"],[0.7777777777777778,\"#fb9f3a\"],[0.8888888888888888,\"#fdca26\"],[1.0,\"#f0f921\"]],\"sequentialminus\":[[0.0,\"#0d0887\"],[0.1111111111111111,\"#46039f\"],[0.2222222222222222,\"#7201a8\"],[0.3333333333333333,\"#9c179e\"],[0.4444444444444444,\"#bd3786\"],[0.5555555555555556,\"#d8576b\"],[0.6666666666666666,\"#ed7953\"],[0.7777777777777778,\"#fb9f3a\"],[0.8888888888888888,\"#fdca26\"],[1.0,\"#f0f921\"]],\"diverging\":[[0,\"#8e0152\"],[0.1,\"#c51b7d\"],[0.2,\"#de77ae\"],[0.3,\"#f1b6da\"],[0.4,\"#fde0ef\"],[0.5,\"#f7f7f7\"],[0.6,\"#e6f5d0\"],[0.7,\"#b8e186\"],[0.8,\"#7fbc41\"],[0.9,\"#4d9221\"],[1,\"#276419\"]]},\"xaxis\":{\"gridcolor\":\"white\",\"linecolor\":\"white\",\"ticks\":\"\",\"title\":{\"standoff\":15},\"zerolinecolor\":\"white\",\"automargin\":true,\"zerolinewidth\":2},\"yaxis\":{\"gridcolor\":\"white\",\"linecolor\":\"white\",\"ticks\":\"\",\"title\":{\"standoff\":15},\"zerolinecolor\":\"white\",\"automargin\":true,\"zerolinewidth\":2},\"scene\":{\"xaxis\":{\"backgroundcolor\":\"#E5ECF6\",\"gridcolor\":\"white\",\"linecolor\":\"white\",\"showbackground\":true,\"ticks\":\"\",\"zerolinecolor\":\"white\",\"gridwidth\":2},\"yaxis\":{\"backgroundcolor\":\"#E5ECF6\",\"gridcolor\":\"white\",\"linecolor\":\"white\",\"showbackground\":true,\"ticks\":\"\",\"zerolinecolor\":\"white\",\"gridwidth\":2},\"zaxis\":{\"backgroundcolor\":\"#E5ECF6\",\"gridcolor\":\"white\",\"linecolor\":\"white\",\"showbackground\":true,\"ticks\":\"\",\"zerolinecolor\":\"white\",\"gridwidth\":2}},\"shapedefaults\":{\"line\":{\"color\":\"#2a3f5f\"}},\"annotationdefaults\":{\"arrowcolor\":\"#2a3f5f\",\"arrowhead\":0,\"arrowwidth\":1},\"geo\":{\"bgcolor\":\"white\",\"landcolor\":\"#E5ECF6\",\"subunitcolor\":\"white\",\"showland\":true,\"showlakes\":true,\"lakecolor\":\"white\"},\"title\":{\"x\":0.05},\"mapbox\":{\"style\":\"light\"}}},\"legend\":{\"tracegroupgap\":0},\"title\":{\"text\":\"Distribution of Athletes by Sex, BMI and Age\"}},                        {\"responsive\": true}                    ).then(function(){\n",
       "                            \n",
       "var gd = document.getElementById('e2cdd398-39b9-4e5d-be45-f9e0f618bab3');\n",
       "var x = new MutationObserver(function (mutations, observer) {{\n",
       "        var display = window.getComputedStyle(gd).display;\n",
       "        if (!display || display === 'none') {{\n",
       "            console.log([gd, 'removed!']);\n",
       "            Plotly.purge(gd);\n",
       "            observer.disconnect();\n",
       "        }}\n",
       "}});\n",
       "\n",
       "// Listen for the removal of the full notebook cells\n",
       "var notebookContainer = gd.closest('#notebook-container');\n",
       "if (notebookContainer) {{\n",
       "    x.observe(notebookContainer, {childList: true});\n",
       "}}\n",
       "\n",
       "// Listen for the clearing of the current output cell\n",
       "var outputEl = gd.closest('.output');\n",
       "if (outputEl) {{\n",
       "    x.observe(outputEl, {childList: true});\n",
       "}}\n",
       "\n",
       "                        })                };                });            </script>        </div>"
      ]
     },
     "metadata": {},
     "output_type": "display_data"
    }
   ],
   "source": [
    "df1_copy = df1.copy()\n",
    "\n",
    "#BMI Distribution\n",
    "df1_copy['Height_m'] = df1_copy['Height']/100  #height im cm to height in m \n",
    "df1_copy['BMI'] = df1_copy['Weight'] / (df1_copy['Height_m'] ** 2)\n",
    "\n",
    "def func_bmi(BMI):\n",
    "    if BMI < 18.5:\n",
    "        return 'Underweight'\n",
    "    elif 18.5 <= BMI < 25:\n",
    "        return 'Normal weight'\n",
    "    elif 25 <= BMI < 30:\n",
    "        return 'Overweight'\n",
    "    else:\n",
    "        return 'Obesity'\n",
    "\n",
    "#Age Distribution\n",
    "def func_age(Age):\n",
    "    \n",
    "    Age = float(Age)\n",
    "    if Age < 20:\n",
    "        return 'Teen'\n",
    "    elif 20 <= Age < 30:\n",
    "        return 'Young Adult'\n",
    "    elif 30 <= Age < 40:\n",
    "        return 'Adult'\n",
    "    else:\n",
    "        return 'Senior'\n",
    "\n",
    "#Sex Distribution\n",
    "def func_sex(Sex):\n",
    "    if Sex == 0:\n",
    "        return 'Male'\n",
    "    else:\n",
    "        return 'Female'\n",
    "\n",
    "#Create new columns in df1_copy\n",
    "df1_copy['BMI'] = df1_copy['BMI'].apply(func_bmi)\n",
    "df1_copy['Age'] = df1_copy['Age'].apply(func_age)\n",
    "df1_copy['Sex'] = df1_copy['Sex'].apply(func_sex)\n",
    "\n",
    "#Create a Sunburst Chart\n",
    "fig = px.sunburst(\n",
    "    df1_copy,\n",
    "    path=['Sex', 'BMI', 'Age'],  # Order of hierarchy\n",
    "    values=None, \n",
    "    color='Sex',\n",
    "    color_discrete_map={'Male':'deepskyblue', 'Female':'hotpink'},  \n",
    "    title=\"Distribution of Athletes by Sex, BMI and Age\"\n",
    ")\n",
    "\n",
    "fig.show()\n"
   ]
  },
  {
   "cell_type": "code",
   "execution_count": null,
   "id": "a315f3fe-86b2-4795-acd7-44a1a4af4e5b",
   "metadata": {},
   "outputs": [
    {
     "name": "stdout",
     "output_type": "stream",
     "text": [
      "revathy\n"
     ]
    }
   ],
   "source": [
    "print(\"revathy\")"
   ]
  },
  {
   "cell_type": "code",
   "execution_count": null,
   "id": "e2ef71c6-7fc8-4b19-89b1-f220cd5c0967",
   "metadata": {},
   "outputs": [],
   "source": []
  }
 ],
 "metadata": {
  "kernelspec": {
   "display_name": "base",
   "language": "python",
   "name": "python3"
  },
  "language_info": {
   "codemirror_mode": {
    "name": "ipython",
    "version": 3
   },
   "file_extension": ".py",
   "mimetype": "text/x-python",
   "name": "python",
   "nbconvert_exporter": "python",
   "pygments_lexer": "ipython3",
   "version": "3.11.7"
  }
 },
 "nbformat": 4,
 "nbformat_minor": 5
}
