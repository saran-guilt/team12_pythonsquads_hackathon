{
 "cells": [
  {
   "cell_type": "code",
   "execution_count": 32,
   "id": "bcf4f673-354c-4013-9a76-e8b3c21d76ae",
   "metadata": {},
   "outputs": [],
   "source": [
    "import pandas as pd\n",
    "import numpy as np\n",
    "import matplotlib.pyplot as plt\n",
    "from pywaffle import Waffle \n",
    "import plotly.express as px\n",
    "import random\n"
   ]
  },
  {
   "cell_type": "code",
   "execution_count": 33,
   "id": "66da47a2-5bef-4775-b6d4-a2f7467cbd88",
   "metadata": {},
   "outputs": [],
   "source": [
    "df1 = pd.read_csv(\"subject-info.csv\")\n",
    "df2 = pd.read_csv(\"test_measure.csv\")\n"
   ]
  },
  {
   "cell_type": "code",
   "execution_count": 34,
   "id": "a4a2f397-7c1b-42e9-bfed-aaf0cf224b7c",
   "metadata": {},
   "outputs": [
    {
     "data": {
      "text/html": [
       "<div>\n",
       "<style scoped>\n",
       "    .dataframe tbody tr th:only-of-type {\n",
       "        vertical-align: middle;\n",
       "    }\n",
       "\n",
       "    .dataframe tbody tr th {\n",
       "        vertical-align: top;\n",
       "    }\n",
       "\n",
       "    .dataframe thead th {\n",
       "        text-align: right;\n",
       "    }\n",
       "</style>\n",
       "<table border=\"1\" class=\"dataframe\">\n",
       "  <thead>\n",
       "    <tr style=\"text-align: right;\">\n",
       "      <th></th>\n",
       "      <th>Age</th>\n",
       "      <th>Weight</th>\n",
       "      <th>Height</th>\n",
       "      <th>Humidity</th>\n",
       "      <th>Temperature</th>\n",
       "      <th>Sex</th>\n",
       "      <th>ID</th>\n",
       "      <th>ID_test</th>\n",
       "    </tr>\n",
       "  </thead>\n",
       "  <tbody>\n",
       "    <tr>\n",
       "      <th>0</th>\n",
       "      <td>10.8</td>\n",
       "      <td>48.8</td>\n",
       "      <td>163.0</td>\n",
       "      <td>39.0</td>\n",
       "      <td>20.7</td>\n",
       "      <td>1</td>\n",
       "      <td>543</td>\n",
       "      <td>543_1</td>\n",
       "    </tr>\n",
       "    <tr>\n",
       "      <th>1</th>\n",
       "      <td>11.8</td>\n",
       "      <td>41.0</td>\n",
       "      <td>150.0</td>\n",
       "      <td>41.0</td>\n",
       "      <td>22.3</td>\n",
       "      <td>1</td>\n",
       "      <td>11</td>\n",
       "      <td>11_1</td>\n",
       "    </tr>\n",
       "    <tr>\n",
       "      <th>2</th>\n",
       "      <td>12.2</td>\n",
       "      <td>46.0</td>\n",
       "      <td>160.0</td>\n",
       "      <td>37.0</td>\n",
       "      <td>21.5</td>\n",
       "      <td>0</td>\n",
       "      <td>829</td>\n",
       "      <td>829_1</td>\n",
       "    </tr>\n",
       "    <tr>\n",
       "      <th>3</th>\n",
       "      <td>13.2</td>\n",
       "      <td>71.0</td>\n",
       "      <td>190.0</td>\n",
       "      <td>49.0</td>\n",
       "      <td>23.8</td>\n",
       "      <td>1</td>\n",
       "      <td>284</td>\n",
       "      <td>284_1</td>\n",
       "    </tr>\n",
       "    <tr>\n",
       "      <th>4</th>\n",
       "      <td>13.7</td>\n",
       "      <td>53.8</td>\n",
       "      <td>169.7</td>\n",
       "      <td>40.0</td>\n",
       "      <td>25.3</td>\n",
       "      <td>0</td>\n",
       "      <td>341</td>\n",
       "      <td>341_1</td>\n",
       "    </tr>\n",
       "    <tr>\n",
       "      <th>...</th>\n",
       "      <td>...</td>\n",
       "      <td>...</td>\n",
       "      <td>...</td>\n",
       "      <td>...</td>\n",
       "      <td>...</td>\n",
       "      <td>...</td>\n",
       "      <td>...</td>\n",
       "      <td>...</td>\n",
       "    </tr>\n",
       "    <tr>\n",
       "      <th>987</th>\n",
       "      <td>59.1</td>\n",
       "      <td>64.7</td>\n",
       "      <td>172.0</td>\n",
       "      <td>38.0</td>\n",
       "      <td>24.4</td>\n",
       "      <td>0</td>\n",
       "      <td>856</td>\n",
       "      <td>856_2</td>\n",
       "    </tr>\n",
       "    <tr>\n",
       "      <th>988</th>\n",
       "      <td>59.7</td>\n",
       "      <td>65.2</td>\n",
       "      <td>172.0</td>\n",
       "      <td>51.0</td>\n",
       "      <td>16.8</td>\n",
       "      <td>0</td>\n",
       "      <td>856</td>\n",
       "      <td>856_3</td>\n",
       "    </tr>\n",
       "    <tr>\n",
       "      <th>989</th>\n",
       "      <td>61.3</td>\n",
       "      <td>102.0</td>\n",
       "      <td>185.0</td>\n",
       "      <td>56.0</td>\n",
       "      <td>20.5</td>\n",
       "      <td>0</td>\n",
       "      <td>390</td>\n",
       "      <td>390_1</td>\n",
       "    </tr>\n",
       "    <tr>\n",
       "      <th>990</th>\n",
       "      <td>61.6</td>\n",
       "      <td>74.0</td>\n",
       "      <td>169.0</td>\n",
       "      <td>46.0</td>\n",
       "      <td>23.9</td>\n",
       "      <td>0</td>\n",
       "      <td>596</td>\n",
       "      <td>596_1</td>\n",
       "    </tr>\n",
       "    <tr>\n",
       "      <th>991</th>\n",
       "      <td>63.0</td>\n",
       "      <td>83.5</td>\n",
       "      <td>171.5</td>\n",
       "      <td>48.0</td>\n",
       "      <td>22.2</td>\n",
       "      <td>0</td>\n",
       "      <td>296</td>\n",
       "      <td>296_1</td>\n",
       "    </tr>\n",
       "  </tbody>\n",
       "</table>\n",
       "<p>992 rows × 8 columns</p>\n",
       "</div>"
      ],
      "text/plain": [
       "      Age  Weight  Height  Humidity  Temperature  Sex   ID ID_test\n",
       "0    10.8    48.8   163.0      39.0         20.7    1  543   543_1\n",
       "1    11.8    41.0   150.0      41.0         22.3    1   11    11_1\n",
       "2    12.2    46.0   160.0      37.0         21.5    0  829   829_1\n",
       "3    13.2    71.0   190.0      49.0         23.8    1  284   284_1\n",
       "4    13.7    53.8   169.7      40.0         25.3    0  341   341_1\n",
       "..    ...     ...     ...       ...          ...  ...  ...     ...\n",
       "987  59.1    64.7   172.0      38.0         24.4    0  856   856_2\n",
       "988  59.7    65.2   172.0      51.0         16.8    0  856   856_3\n",
       "989  61.3   102.0   185.0      56.0         20.5    0  390   390_1\n",
       "990  61.6    74.0   169.0      46.0         23.9    0  596   596_1\n",
       "991  63.0    83.5   171.5      48.0         22.2    0  296   296_1\n",
       "\n",
       "[992 rows x 8 columns]"
      ]
     },
     "execution_count": 34,
     "metadata": {},
     "output_type": "execute_result"
    }
   ],
   "source": [
    "df1\n"
   ]
  },
  {
   "cell_type": "code",
   "execution_count": 35,
   "id": "a4f0cb2e-1e49-40e5-9bf5-88fee3c9ac84",
   "metadata": {},
   "outputs": [
    {
     "data": {
      "text/html": [
       "<div>\n",
       "<style scoped>\n",
       "    .dataframe tbody tr th:only-of-type {\n",
       "        vertical-align: middle;\n",
       "    }\n",
       "\n",
       "    .dataframe tbody tr th {\n",
       "        vertical-align: top;\n",
       "    }\n",
       "\n",
       "    .dataframe thead th {\n",
       "        text-align: right;\n",
       "    }\n",
       "</style>\n",
       "<table border=\"1\" class=\"dataframe\">\n",
       "  <thead>\n",
       "    <tr style=\"text-align: right;\">\n",
       "      <th></th>\n",
       "      <th>time</th>\n",
       "      <th>Speed</th>\n",
       "      <th>HR</th>\n",
       "      <th>VO2</th>\n",
       "      <th>VCO2</th>\n",
       "      <th>RR</th>\n",
       "      <th>VE</th>\n",
       "      <th>ID_test</th>\n",
       "      <th>ID</th>\n",
       "    </tr>\n",
       "  </thead>\n",
       "  <tbody>\n",
       "    <tr>\n",
       "      <th>0</th>\n",
       "      <td>0</td>\n",
       "      <td>5.0</td>\n",
       "      <td>63.0</td>\n",
       "      <td>478.0</td>\n",
       "      <td>360.0</td>\n",
       "      <td>27.0</td>\n",
       "      <td>13.3</td>\n",
       "      <td>2_1</td>\n",
       "      <td>2</td>\n",
       "    </tr>\n",
       "    <tr>\n",
       "      <th>1</th>\n",
       "      <td>2</td>\n",
       "      <td>5.0</td>\n",
       "      <td>75.0</td>\n",
       "      <td>401.0</td>\n",
       "      <td>295.0</td>\n",
       "      <td>23.0</td>\n",
       "      <td>10.3</td>\n",
       "      <td>2_1</td>\n",
       "      <td>2</td>\n",
       "    </tr>\n",
       "    <tr>\n",
       "      <th>2</th>\n",
       "      <td>4</td>\n",
       "      <td>5.0</td>\n",
       "      <td>82.0</td>\n",
       "      <td>449.0</td>\n",
       "      <td>319.0</td>\n",
       "      <td>29.0</td>\n",
       "      <td>12.2</td>\n",
       "      <td>2_1</td>\n",
       "      <td>2</td>\n",
       "    </tr>\n",
       "    <tr>\n",
       "      <th>3</th>\n",
       "      <td>7</td>\n",
       "      <td>5.0</td>\n",
       "      <td>87.0</td>\n",
       "      <td>461.0</td>\n",
       "      <td>340.0</td>\n",
       "      <td>28.0</td>\n",
       "      <td>12.8</td>\n",
       "      <td>2_1</td>\n",
       "      <td>2</td>\n",
       "    </tr>\n",
       "    <tr>\n",
       "      <th>4</th>\n",
       "      <td>9</td>\n",
       "      <td>5.0</td>\n",
       "      <td>92.0</td>\n",
       "      <td>574.0</td>\n",
       "      <td>417.0</td>\n",
       "      <td>28.0</td>\n",
       "      <td>14.6</td>\n",
       "      <td>2_1</td>\n",
       "      <td>2</td>\n",
       "    </tr>\n",
       "    <tr>\n",
       "      <th>...</th>\n",
       "      <td>...</td>\n",
       "      <td>...</td>\n",
       "      <td>...</td>\n",
       "      <td>...</td>\n",
       "      <td>...</td>\n",
       "      <td>...</td>\n",
       "      <td>...</td>\n",
       "      <td>...</td>\n",
       "      <td>...</td>\n",
       "    </tr>\n",
       "    <tr>\n",
       "      <th>575082</th>\n",
       "      <td>926</td>\n",
       "      <td>5.0</td>\n",
       "      <td>148.0</td>\n",
       "      <td>1350.0</td>\n",
       "      <td>1699.0</td>\n",
       "      <td>35.0</td>\n",
       "      <td>65.7</td>\n",
       "      <td>857_1</td>\n",
       "      <td>857</td>\n",
       "    </tr>\n",
       "    <tr>\n",
       "      <th>575083</th>\n",
       "      <td>927</td>\n",
       "      <td>5.0</td>\n",
       "      <td>147.0</td>\n",
       "      <td>1275.0</td>\n",
       "      <td>1605.0</td>\n",
       "      <td>32.0</td>\n",
       "      <td>60.1</td>\n",
       "      <td>857_1</td>\n",
       "      <td>857</td>\n",
       "    </tr>\n",
       "    <tr>\n",
       "      <th>575084</th>\n",
       "      <td>929</td>\n",
       "      <td>5.0</td>\n",
       "      <td>147.0</td>\n",
       "      <td>1259.0</td>\n",
       "      <td>1566.0</td>\n",
       "      <td>29.0</td>\n",
       "      <td>57.0</td>\n",
       "      <td>857_1</td>\n",
       "      <td>857</td>\n",
       "    </tr>\n",
       "    <tr>\n",
       "      <th>575085</th>\n",
       "      <td>931</td>\n",
       "      <td>5.0</td>\n",
       "      <td>147.0</td>\n",
       "      <td>1278.0</td>\n",
       "      <td>1587.0</td>\n",
       "      <td>31.0</td>\n",
       "      <td>58.5</td>\n",
       "      <td>857_1</td>\n",
       "      <td>857</td>\n",
       "    </tr>\n",
       "    <tr>\n",
       "      <th>575086</th>\n",
       "      <td>933</td>\n",
       "      <td>5.0</td>\n",
       "      <td>147.0</td>\n",
       "      <td>1299.0</td>\n",
       "      <td>1600.0</td>\n",
       "      <td>31.0</td>\n",
       "      <td>58.7</td>\n",
       "      <td>857_1</td>\n",
       "      <td>857</td>\n",
       "    </tr>\n",
       "  </tbody>\n",
       "</table>\n",
       "<p>575087 rows × 9 columns</p>\n",
       "</div>"
      ],
      "text/plain": [
       "        time  Speed     HR     VO2    VCO2    RR    VE ID_test   ID\n",
       "0          0    5.0   63.0   478.0   360.0  27.0  13.3     2_1    2\n",
       "1          2    5.0   75.0   401.0   295.0  23.0  10.3     2_1    2\n",
       "2          4    5.0   82.0   449.0   319.0  29.0  12.2     2_1    2\n",
       "3          7    5.0   87.0   461.0   340.0  28.0  12.8     2_1    2\n",
       "4          9    5.0   92.0   574.0   417.0  28.0  14.6     2_1    2\n",
       "...      ...    ...    ...     ...     ...   ...   ...     ...  ...\n",
       "575082   926    5.0  148.0  1350.0  1699.0  35.0  65.7   857_1  857\n",
       "575083   927    5.0  147.0  1275.0  1605.0  32.0  60.1   857_1  857\n",
       "575084   929    5.0  147.0  1259.0  1566.0  29.0  57.0   857_1  857\n",
       "575085   931    5.0  147.0  1278.0  1587.0  31.0  58.5   857_1  857\n",
       "575086   933    5.0  147.0  1299.0  1600.0  31.0  58.7   857_1  857\n",
       "\n",
       "[575087 rows x 9 columns]"
      ]
     },
     "execution_count": 35,
     "metadata": {},
     "output_type": "execute_result"
    }
   ],
   "source": [
    "df2\n"
   ]
  },
  {
   "cell_type": "code",
   "execution_count": null,
   "id": "62116607",
   "metadata": {},
   "outputs": [],
   "source": []
  },
  {
   "cell_type": "markdown",
   "id": "610d964b-f0a1-4ecc-956e-daa5225238ee",
   "metadata": {},
   "source": [
    "#### 17. Display a histogram showing the distribution of athletes by their BMI values."
   ]
  },
  {
   "cell_type": "code",
   "execution_count": 36,
   "id": "19487bbe-1b88-4cdf-a720-e9a858e249c4",
   "metadata": {},
   "outputs": [
    {
     "data": {
      "image/png": "[encoded data removed]",
      "text/plain": [
       "<Figure size 600x600 with 1 Axes>"
      ]
     },
     "metadata": {},
     "output_type": "display_data"
    }
   ],
   "source": [
    "df_copy = df1.copy()\n",
    "\n",
    "df_copy['Height_m'] = df_copy['Height']/100  #height im cm to height in m\n",
    "df_copy['BMI'] = df_copy['Height_m']/ (df_copy['Weight']**2)  \n",
    "df_copy['BMI']\n",
    "\n",
    "#creating histogram\n",
    "plt.figure(figsize=(6,6))\n",
    "plt.hist(df_copy['BMI'], bins=10, color='salmon')\n",
    "plt.title('Distribution of Athletes by BMI Values')\n",
    "plt.xlabel('BMI')\n",
    "plt.ylabel('Athletes Distribution')\n",
    "plt.grid(axis='y', linestyle='--', alpha=0.6)\n",
    "plt.show()\n"
   ]
  },
  {
   "cell_type": "markdown",
   "id": "6ae23899-b735-4c74-8a88-1e888e9d6edb",
   "metadata": {},
   "source": [
    "#### 18. Who is the tallest participant in the dataset? What is his/her Vo2 kg/ml?"
   ]
  },
  {
   "cell_type": "code",
   "execution_count": 37,
   "id": "5ff3d576-1280-48a2-9ad4-b079382d9494",
   "metadata": {},
   "outputs": [
    {
     "name": "stdout",
     "output_type": "stream",
     "text": [
      "Tallest participant ID is: 94 and height is : 203.0 cm\n"
     ]
    }
   ],
   "source": [
    "# Merge df1 and df2 based on the 'ID' column\n",
    "df = pd.merge(df1, df2, on='ID')\n",
    "\n",
    "# Find the max height value from df1\n",
    "max_height = df1['Height'].max()\n",
    "\n",
    "# to get the first row where the height is the maximum\n",
    "tallest_participant = df[df['Height'] == max_height].iloc[0]\n",
    "\n",
    "#Vo2 for the tallest participant. \n",
    "participant_weight = tallest_participant['Weight']\n",
    "VO2_ml_per_min = tallest_participant['VO2']\n",
    "\n",
    "#VO2_ml_per_kg_min = VO2_ml_per_min / participant_weight  #we have Vo2 in mL/min, change to Kg/ml\n",
    "\n",
    "# Print the ID and Height#\n",
    "print(f\"Tallest participant ID is: {tallest_participant['ID']} and height is : {max_height} cm\")\n",
    "#print(f\"VO2 values of tallest participant is : {tallest_participant['VO2_ml_per_kg_min']}\")\n"
   ]
  },
  {
   "cell_type": "markdown",
   "id": "6a2d23ca-a658-4e6e-838f-2031d4060065",
   "metadata": {},
   "source": [
    "#### 19. What is the highest recorded heart rate ? Identify the patient with the highest recorded heart rate."
   ]
  },
  {
   "cell_type": "code",
   "execution_count": 38,
   "id": "95bbc784-8d8d-4454-9e88-1763b2289060",
   "metadata": {},
   "outputs": [
    {
     "name": "stdout",
     "output_type": "stream",
     "text": [
      "Highest heart rate patient ID is: 619 and heart rate is: 226.0\n"
     ]
    }
   ],
   "source": [
    "highest_HR = df2['HR'].max()\n",
    "highest_HR_patient = df2[df2['HR'] == highest_HR].iloc[0]\n",
    "\n",
    "print(f\"Highest heart rate patient ID is: {highest_HR_patient['ID']} and heart rate is: {highest_HR}\")"
   ]
  },
  {
   "cell_type": "markdown",
   "id": "cd446aca-d774-44b4-ab16-635c3d8cd32b",
   "metadata": {},
   "source": [
    "#### 20. What is the VO2 max(mL/kg/min) of the shortest male athlete?"
   ]
  },
  {
   "cell_type": "code",
   "execution_count": 39,
   "id": "9296092e-abe4-4b9e-bb1b-6178f30485fa",
   "metadata": {},
   "outputs": [
    {
     "name": "stdout",
     "output_type": "stream",
     "text": [
      "Shortest male athlete's ID is: 367 and his VO2 max is: 6.45mL/kg/min\n"
     ]
    }
   ],
   "source": [
    "# Merge df1 and df2 based on the 'ID' column\n",
    "df = pd.merge(df1, df2, on='ID')\n",
    "\n",
    "male_athlete = df[df['Sex']==0]  # for male= 0\n",
    "min_height = male_athlete['Height'].min()\n",
    "\n",
    "#shortest male athlete\n",
    "shortest_male_athlete = male_athlete[male_athlete['Height'] == min_height].iloc[0]\n",
    "\n",
    "#shortest_male_athlete weight & VO2\n",
    "shortest_male_athlete_weight = shortest_male_athlete['Weight']\n",
    "VO2_ml_per_min =shortest_male_athlete['VO2']\n",
    "\n",
    "VO2_ml_per_kg_min = (VO2_ml_per_min / shortest_male_athlete_weight).max() #we have VO2 in mL/min, change to mL/kg/min\n",
    "\n",
    "print(f\"Shortest male athlete's ID is: {shortest_male_athlete['ID']} and his VO2 max is: {VO2_ml_per_kg_min:.2f}mL/kg/min\")"
   ]
  },
  {
   "cell_type": "markdown",
   "id": "f0af248f-dda8-48af-9f6d-b3646500fc30",
   "metadata": {},
   "source": [
    "#### 21. Analyze the mean VO2 and VCO2 values by humidity level using a Multiseries Bar Chart. Based on your findings, how does low humidity affect respiratory and cardiovascular function during exercise (VO2 and VCO2)? Humidity level (<30 - Low) , (30 to 60 - Normal ) ,(>60 - High)"
   ]
  },
  {
   "cell_type": "code",
   "execution_count": 40,
   "id": "6c66082d-d9e3-4d80-b26c-cd3f1cd6e370",
   "metadata": {},
   "outputs": [
    {
     "name": "stdout",
     "output_type": "stream",
     "text": [
      "  Humidity_Level          VO2         VCO2\n",
      "0           High  2379.413412  2423.580857\n",
      "1            Low  2039.915370  2022.756067\n",
      "2         Normal  2333.514981  2405.163178\n"
     ]
    },
    {
     "data": {
      "image/png": "[encoded data removed]",
      "text/plain": [
       "<Figure size 800x600 with 1 Axes>"
      ]
     },
     "metadata": {},
     "output_type": "display_data"
    }
   ],
   "source": [
    "# Merge df1 and df2 based on the 'ID' column\n",
    "df = pd.merge(df1, df2, on='ID')\n",
    "\n",
    "#Humidity Level \n",
    "def humidity_level(humidity):\n",
    "    if humidity < 30:\n",
    "        return 'Low'\n",
    "    elif 30 <= humidity <= 60:\n",
    "        return 'Normal'\n",
    "    else:\n",
    "        return 'High'\n",
    "    \n",
    "#humidity level in merged df\n",
    "df['Humidity_Level'] = df['Humidity'].apply(humidity_level)\n",
    "\n",
    "# Group and calculate mean of VO2, VCO2\n",
    "mean_value = df.groupby('Humidity_Level')[['VO2', 'VCO2']].mean().reset_index()\n",
    "print(mean_value)\n",
    "\n",
    "# Plot\n",
    "x = mean_value['Humidity_Level']\n",
    "vo2 = mean_value['VO2']\n",
    "vco2 = mean_value['VCO2']\n",
    "\n",
    "# Bar chart\n",
    "x_axis = range(len(x))\n",
    "width = 0.35\n",
    "\n",
    "fig, ax = plt.subplots(figsize=(8, 6))\n",
    "\n",
    "ax.bar([i - width/2 for i in x_axis], vo2, width, label='VO2', color='skyblue')\n",
    "ax.bar([i + width/2 for i in x_axis], vco2, width, label='VCO2', color='lightcoral')\n",
    "\n",
    "ax.set_xticks(x_axis)\n",
    "ax.set_xticklabels(x)\n",
    "ax.set_ylabel('Mean Value')\n",
    "ax.set_title('Mean VO2 and VCO2 by Humidity Level')\n",
    "ax.legend()\n",
    "\n",
    "plt.show()\n",
    "\n",
    "\n"
   ]
  },
  {
   "cell_type": "markdown",
   "id": "348d6c24-bdec-4b3b-919d-31f2d2c6db45",
   "metadata": {},
   "source": [
    "#### 22. Display the average speed of each participant in ' peak exercise' based on RER (Following question no.14)"
   ]
  },
  {
   "cell_type": "code",
   "execution_count": 41,
   "id": "610aeece-9d44-441e-bffc-fa292bffe4d3",
   "metadata": {},
   "outputs": [
    {
     "name": "stdout",
     "output_type": "stream",
     "text": [
      "      ID      Speed\n",
      "0      1   9.892920\n",
      "1      2  10.850575\n",
      "2      3  12.000597\n",
      "3      4  10.787342\n",
      "4      5   9.007265\n",
      "..   ...        ...\n",
      "852  853   8.858986\n",
      "853  854   6.149524\n",
      "854  855  12.110079\n",
      "855  856  10.712664\n",
      "856  857  10.231186\n",
      "\n",
      "[857 rows x 2 columns]\n"
     ]
    }
   ],
   "source": [
    "df2_copy = df2.copy()\n",
    "\n",
    "df2_copy['RER'] = df2_copy['VCO2'] /df2_copy['VO2'] # find out RER = VCO2/VO2\n",
    "\n",
    "#Exercise phases\n",
    "def excercise_phases(RER):\n",
    "    if RER < 0.85:\n",
    "        return 'warmup'\n",
    "    elif 0.85 <= RER < 1.00:\n",
    "        return 'moderate'\n",
    "    else:\n",
    "        return 'peak exercise'\n",
    "\n",
    "df2_copy['excercise_phases'] = df2_copy['RER'].apply(excercise_phases)\n",
    "\n",
    "\n",
    "# Filter for Peak Exercise rows\n",
    "peak_exercise = df2_copy[df2_copy['excercise_phases'] == 'peak exercise']\n",
    "\n",
    "# Group by participant and calculate average speed\n",
    "average_speed_in_peak_excer = peak_exercise.groupby('ID')['Speed'].mean().reset_index()\n",
    "\n",
    "# Rename columns nicely\n",
    "#average_speed_peak.columns = ['Participant_ID', 'Average Speed (Peak Exercise)']\n",
    "\n",
    "# Display\n",
    "print(average_speed_in_peak_excer)"
   ]
  },
  {
   "cell_type": "markdown",
   "id": "fdd7000d-1185-4e2c-bdc7-2cfa9468c203",
   "metadata": {},
   "source": [
    "#### 23. Assign one of the following 5 heart rate zones for every Athletes and add this as a column to a new table with all unique IDs. Exclude Warm-Up Phase\n",
    " \n",
    "#### Zone 1 (recovery/easy) <100 HR max\n",
    "#### Zone 2 (aerobic/base) 100-120 HR max\n",
    "#### Zone 3 (tempo) 120-135 HR max\n",
    "#### Zone 4 (lactate threshold) 135-155 HR max\n",
    "#### Zone 5 (anaerobic) 155+ HR max and above\""
   ]
  },
  {
   "cell_type": "code",
   "execution_count": 42,
   "id": "ac9dffcb-23b6-4986-81dc-f953322752d9",
   "metadata": {},
   "outputs": [
    {
     "name": "stdout",
     "output_type": "stream",
     "text": [
      "         ID                       Zones\n",
      "0         2      Zone 1 (recovery/easy)\n",
      "13        2       Zone 2 (aerobic/base)\n",
      "121       2              Zone 3 (tempo)\n",
      "173       2  Zone 4 (lactate threshold)\n",
      "267       2          Zone 5 (anaerobic)\n",
      "...     ...                         ...\n",
      "574584  857      Zone 1 (recovery/easy)\n",
      "574587  857       Zone 2 (aerobic/base)\n",
      "574595  857              Zone 3 (tempo)\n",
      "574711  857  Zone 4 (lactate threshold)\n",
      "574764  857          Zone 5 (anaerobic)\n",
      "\n",
      "[4177 rows x 2 columns]\n"
     ]
    }
   ],
   "source": [
    "#Define function to assign HR Zone\n",
    "def HR_zones(hr):\n",
    "    if hr < 100:\n",
    "        return 'Zone 1 (recovery/easy)'\n",
    "    elif 100 <= hr < 120:\n",
    "        return 'Zone 2 (aerobic/base)'\n",
    "    elif 120 <= hr < 135:\n",
    "        return 'Zone 3 (tempo)'\n",
    "    elif 135 <= hr < 155:\n",
    "        return 'Zone 4 (lactate threshold)'\n",
    "    else:\n",
    "        return 'Zone 5 (anaerobic)'\n",
    "\n",
    "#create a new 'Zone' column\n",
    "df2['Zones'] = df2['HR'].apply(HR_zones)\n",
    "\n",
    "#new table with only unique IDs and Zone\n",
    "new_table = df2[['ID','Zones']].drop_duplicates()\n",
    "\n",
    "# Print final result\n",
    "print(new_table)\n",
    "\n"
   ]
  },
  {
   "cell_type": "markdown",
   "id": "adc4c0d0",
   "metadata": {},
   "source": [
    "#### 24. Find the athlete who has got optimal respiratory stability based on the measure of Breathing Interval variability over time."
   ]
  },
  {
   "cell_type": "code",
   "execution_count": null,
   "id": "a2c996be",
   "metadata": {},
   "outputs": [],
   "source": []
  },
  {
   "cell_type": "markdown",
   "id": "43807e9f-244f-47ee-a63a-f986232eb76d",
   "metadata": {},
   "source": [
    "#### 25. Generate a pie chart to show the gender-wise distribution of athletes."
   ]
  },
  {
   "cell_type": "code",
   "execution_count": 43,
   "id": "7c42986a-5539-4734-8f85-2c1bda8245ab",
   "metadata": {},
   "outputs": [
    {
     "data": {
      "image/png": "[encoded data removed]",
      "text/plain": [
       "<Figure size 600x600 with 1 Axes>"
      ]
     },
     "metadata": {},
     "output_type": "display_data"
    }
   ],
   "source": [
    "# Count gender distribution\n",
    "M_F_counts = df1['Sex'].value_counts()\n",
    "\n",
    "# pie chart\n",
    "plt.figure(figsize=(6, 6))\n",
    "plt.pie(M_F_counts, labels=M_F_counts.index, autopct='%.2f%%', startangle=90, colors=['purple', 'pink']) # 1= female, 0=male\n",
    "plt.title('Gender_wise Distribution of Athletes')\n",
    "\n",
    "\n",
    "# Show the plot\n",
    "plt.show()"
   ]
  },
  {
   "cell_type": "markdown",
   "id": "b1e32ad2",
   "metadata": {},
   "source": [
    "#### 26. Use enumeration to print ID, Sex, and BMI of each athlete."
   ]
  },
  {
   "cell_type": "code",
   "execution_count": 44,
   "id": "a2db6a21",
   "metadata": {},
   "outputs": [
    {
     "name": "stdout",
     "output_type": "stream",
     "text": [
      "1. ID: 543, Sex: 1, BMI: 18.37\n",
      "2. ID: 11, Sex: 1, BMI: 18.22\n",
      "3. ID: 829, Sex: 0, BMI: 17.97\n",
      "4. ID: 284, Sex: 1, BMI: 19.67\n",
      "5. ID: 341, Sex: 0, BMI: 18.68\n",
      "6. ID: 341, Sex: 0, BMI: 18.26\n",
      "7. ID: 343, Sex: 0, BMI: 17.97\n",
      "8. ID: 330, Sex: 0, BMI: 17.53\n",
      "9. ID: 338, Sex: 0, BMI: 18.39\n",
      "10. ID: 339, Sex: 0, BMI: 19.39\n"
     ]
    }
   ],
   "source": [
    "df1_copy = df1.copy()\n",
    "\n",
    "#BMI calculation\n",
    "df1_copy['Height_m'] = df1_copy['Height']/100  #height im cm to height in m \n",
    "df1_copy['BMI'] = df1_copy['Weight'] / (df1_copy['Height_m'] ** 2)\n",
    "\n",
    "# Enumerate BMI, ID, Sex\n",
    "for index, row in enumerate(df1_copy.head(10).itertuples(), start=1):\n",
    "    print(f\"{index}. ID: {row.ID}, Sex: {row.Sex}, BMI: {row.BMI:.2f}\")"
   ]
  },
  {
   "cell_type": "markdown",
   "id": "afd760a2",
   "metadata": {},
   "source": [
    "#### 27. Create a sunburst chart to show the distribution of athletes based on Sex, BMI levels, and Age ranges."
   ]
  },
  {
   "cell_type": "code",
   "execution_count": 45,
   "id": "e40f27dc",
   "metadata": {},
   "outputs": [
    {
     "data": {
      "application/vnd.plotly.v1+json": {
       "config": {
        "plotlyServerURL": "https://plot.ly"
       },
       "data": [
        {
         "branchvalues": "total",
         "customdata": [
          [
           "Female"
          ],
          [
           "Male"
          ],
          [
           "Female"
          ],
          [
           "Male"
          ],
          [
           "Female"
          ],
          [
           "Male"
          ],
          [
           "Female"
          ],
          [
           "Male"
          ],
          [
           "Female"
          ],
          [
           "Female"
          ],
          [
           "Female"
          ],
          [
           "Male"
          ],
          [
           "Female"
          ],
          [
           "Male"
          ],
          [
           "Female"
          ],
          [
           "Male"
          ],
          [
           "Male"
          ],
          [
           "Female"
          ],
          [
           "Female"
          ],
          [
           "Female"
          ],
          [
           "Male"
          ],
          [
           "Male"
          ],
          [
           "Female"
          ],
          [
           "Male"
          ],
          [
           "Female"
          ],
          [
           "Male"
          ],
          [
           "Male"
          ],
          [
           "Male"
          ],
          [
           "Male"
          ],
          [
           "Female"
          ],
          [
           "Female"
          ],
          [
           "Male"
          ],
          [
           "Female"
          ],
          [
           "Male"
          ],
          [
           "Female"
          ],
          [
           "Male"
          ]
         ],
         "domain": {
          "x": [
           0,
           1
          ],
          "y": [
           0,
           1
          ]
         },
         "hovertemplate": "labels=%{label}<br>count=%{value}<br>parent=%{parent}<br>id=%{id}<br>Sex=%{customdata[0]}<extra></extra>",
         "ids": [
          "Female/Normal weight/Adult",
          "Male/Normal weight/Adult",
          "Female/Overweight/Adult",
          "Male/Normal weight/Young Adult",
          "Female/Obesity/Young Adult",
          "Male/Obesity/Young Adult",
          "Female/Overweight/Young Adult",
          "Male/Overweight/Young Adult",
          "Female/Underweight/Young Adult",
          "Female/Normal weight",
          "Female/Obesity",
          "Male/Obesity",
          "Female/Overweight",
          "Male/Overweight",
          "Female/Underweight",
          "Male/Underweight",
          "Male/Normal weight",
          "Female/Normal weight/Young Adult",
          "Female/Underweight/Teen",
          "Female",
          "Male/Obesity/Adult",
          "Male/Overweight/Adult",
          "Female/Underweight/Adult",
          "Male/Underweight/Adult",
          "Female/Normal weight/Senior",
          "Male/Normal weight/Senior",
          "Male/Underweight/Teen",
          "Male/Obesity/Senior",
          "Male/Overweight/Senior",
          "Female/Underweight/Senior",
          "Female/Normal weight/Teen",
          "Male/Normal weight/Teen",
          "Female/Overweight/Teen",
          "Male/Overweight/Teen",
          "Female/Overweight/Senior",
          "Male"
         ],
         "labels": [
          "Adult",
          "Adult",
          "Adult",
          "Young Adult",
          "Young Adult",
          "Young Adult",
          "Young Adult",
          "Young Adult",
          "Young Adult",
          "Normal weight",
          "Obesity",
          "Obesity",
          "Overweight",
          "Overweight",
          "Underweight",
          "Underweight",
          "Normal weight",
          "Young Adult",
          "Teen",
          "Female",
          "Adult",
          "Adult",
          "Adult",
          "Adult",
          "Senior",
          "Senior",
          "Teen",
          "Senior",
          "Senior",
          "Senior",
          "Teen",
          "Teen",
          "Teen",
          "Teen",
          "Senior",
          "Male"
         ],
         "marker": {
          "colors": [
           "hotpink",
           "deepskyblue",
           "hotpink",
           "deepskyblue",
           "hotpink",
           "deepskyblue",
           "hotpink",
           "deepskyblue",
           "hotpink",
           "hotpink",
           "hotpink",
           "deepskyblue",
           "hotpink",
           "deepskyblue",
           "hotpink",
           "deepskyblue",
           "deepskyblue",
           "hotpink",
           "hotpink",
           "hotpink",
           "deepskyblue",
           "deepskyblue",
           "hotpink",
           "deepskyblue",
           "hotpink",
           "deepskyblue",
           "deepskyblue",
           "deepskyblue",
           "deepskyblue",
           "hotpink",
           "hotpink",
           "deepskyblue",
           "hotpink",
           "deepskyblue",
           "hotpink",
           "deepskyblue"
          ]
         },
         "name": "",
         "parents": [
          "Female/Normal weight",
          "Male/Normal weight",
          "Female/Overweight",
          "Male/Normal weight",
          "Female/Obesity",
          "Male/Obesity",
          "Female/Overweight",
          "Male/Overweight",
          "Female/Underweight",
          "Female",
          "Female",
          "Male",
          "Female",
          "Male",
          "Female",
          "Male",
          "Male",
          "Female/Normal weight",
          "Female/Underweight",
          "",
          "Male/Obesity",
          "Male/Overweight",
          "Female/Underweight",
          "Male/Underweight",
          "Female/Normal weight",
          "Male/Normal weight",
          "Male/Underweight",
          "Male/Obesity",
          "Male/Overweight",
          "Female/Underweight",
          "Female/Normal weight",
          "Male/Normal weight",
          "Female/Overweight",
          "Male/Overweight",
          "Female/Overweight",
          ""
         ],
         "type": "sunburst",
         "values": [
          26,
          140,
          1,
          216,
          1,
          12,
          11,
          88,
          5,
          118,
          1,
          24,
          20,
          249,
          10,
          18,
          552,
          45,
          2,
          149,
          8,
          72,
          1,
          1,
          11,
          77,
          17,
          4,
          61,
          2,
          36,
          119,
          7,
          28,
          1,
          843
         ]
        }
       ],
       "layout": {
        "legend": {
         "tracegroupgap": 0
        },
        "template": {
         "data": {
          "bar": [
           {
            "error_x": {
             "color": "#2a3f5f"
            },
            "error_y": {
             "color": "#2a3f5f"
            },
            "marker": {
             "line": {
              "color": "#E5ECF6",
              "width": 0.5
             },
             "pattern": {
              "fillmode": "overlay",
              "size": 10,
              "solidity": 0.2
             }
            },
            "type": "bar"
           }
          ],
          "barpolar": [
           {
            "marker": {
             "line": {
              "color": "#E5ECF6",
              "width": 0.5
             },
             "pattern": {
              "fillmode": "overlay",
              "size": 10,
              "solidity": 0.2
             }
            },
            "type": "barpolar"
           }
          ],
          "carpet": [
           {
            "aaxis": {
             "endlinecolor": "#2a3f5f",
             "gridcolor": "white",
             "linecolor": "white",
             "minorgridcolor": "white",
             "startlinecolor": "#2a3f5f"
            },
            "baxis": {
             "endlinecolor": "#2a3f5f",
             "gridcolor": "white",
             "linecolor": "white",
             "minorgridcolor": "white",
             "startlinecolor": "#2a3f5f"
            },
            "type": "carpet"
           }
          ],
          "choropleth": [
           {
            "colorbar": {
             "outlinewidth": 0,
             "ticks": ""
            },
            "type": "choropleth"
           }
          ],
          "contour": [
           {
            "colorbar": {
             "outlinewidth": 0,
             "ticks": ""
            },
            "colorscale": [
             [
              0,
              "#0d0887"
             ],
             [
              0.1111111111111111,
              "#46039f"
             ],
             [
              0.2222222222222222,
              "#7201a8"
             ],
             [
              0.3333333333333333,
              "#9c179e"
             ],
             [
              0.4444444444444444,
              "#bd3786"
             ],
             [
              0.5555555555555556,
              "#d8576b"
             ],
             [
              0.6666666666666666,
              "#ed7953"
             ],
             [
              0.7777777777777778,
              "#fb9f3a"
             ],
             [
              0.8888888888888888,
              "#fdca26"
             ],
             [
              1,
              "#f0f921"
             ]
            ],
            "type": "contour"
           }
          ],
          "contourcarpet": [
           {
            "colorbar": {
             "outlinewidth": 0,
             "ticks": ""
            },
            "type": "contourcarpet"
           }
          ],
          "heatmap": [
           {
            "colorbar": {
             "outlinewidth": 0,
             "ticks": ""
            },
            "colorscale": [
             [
              0,
              "#0d0887"
             ],
             [
              0.1111111111111111,
              "#46039f"
             ],
             [
              0.2222222222222222,
              "#7201a8"
             ],
             [
              0.3333333333333333,
              "#9c179e"
             ],
             [
              0.4444444444444444,
              "#bd3786"
             ],
             [
              0.5555555555555556,
              "#d8576b"
             ],
             [
              0.6666666666666666,
              "#ed7953"
             ],
             [
              0.7777777777777778,
              "#fb9f3a"
             ],
             [
              0.8888888888888888,
              "#fdca26"
             ],
             [
              1,
              "#f0f921"
             ]
            ],
            "type": "heatmap"
           }
          ],
          "heatmapgl": [
           {
            "colorbar": {
             "outlinewidth": 0,
             "ticks": ""
            },
            "colorscale": [
             [
              0,
              "#0d0887"
             ],
             [
              0.1111111111111111,
              "#46039f"
             ],
             [
              0.2222222222222222,
              "#7201a8"
             ],
             [
              0.3333333333333333,
              "#9c179e"
             ],
             [
              0.4444444444444444,
              "#bd3786"
             ],
             [
              0.5555555555555556,
              "#d8576b"
             ],
             [
              0.6666666666666666,
              "#ed7953"
             ],
             [
              0.7777777777777778,
              "#fb9f3a"
             ],
             [
              0.8888888888888888,
              "#fdca26"
             ],
             [
              1,
              "#f0f921"
             ]
            ],
            "type": "heatmapgl"
           }
          ],
          "histogram": [
           {
            "marker": {
             "pattern": {
              "fillmode": "overlay",
              "size": 10,
              "solidity": 0.2
             }
            },
            "type": "histogram"
           }
          ],
          "histogram2d": [
           {
            "colorbar": {
             "outlinewidth": 0,
             "ticks": ""
            },
            "colorscale": [
             [
              0,
              "#0d0887"
             ],
             [
              0.1111111111111111,
              "#46039f"
             ],
             [
              0.2222222222222222,
              "#7201a8"
             ],
             [
              0.3333333333333333,
              "#9c179e"
             ],
             [
              0.4444444444444444,
              "#bd3786"
             ],
             [
              0.5555555555555556,
              "#d8576b"
             ],
             [
              0.6666666666666666,
              "#ed7953"
             ],
             [
              0.7777777777777778,
              "#fb9f3a"
             ],
             [
              0.8888888888888888,
              "#fdca26"
             ],
             [
              1,
              "#f0f921"
             ]
            ],
            "type": "histogram2d"
           }
          ],
          "histogram2dcontour": [
           {
            "colorbar": {
             "outlinewidth": 0,
             "ticks": ""
            },
            "colorscale": [
             [
              0,
              "#0d0887"
             ],
             [
              0.1111111111111111,
              "#46039f"
             ],
             [
              0.2222222222222222,
              "#7201a8"
             ],
             [
              0.3333333333333333,
              "#9c179e"
             ],
             [
              0.4444444444444444,
              "#bd3786"
             ],
             [
              0.5555555555555556,
              "#d8576b"
             ],
             [
              0.6666666666666666,
              "#ed7953"
             ],
             [
              0.7777777777777778,
              "#fb9f3a"
             ],
             [
              0.8888888888888888,
              "#fdca26"
             ],
             [
              1,
              "#f0f921"
             ]
            ],
            "type": "histogram2dcontour"
           }
          ],
          "mesh3d": [
           {
            "colorbar": {
             "outlinewidth": 0,
             "ticks": ""
            },
            "type": "mesh3d"
           }
          ],
          "parcoords": [
           {
            "line": {
             "colorbar": {
              "outlinewidth": 0,
              "ticks": ""
             }
            },
            "type": "parcoords"
           }
          ],
          "pie": [
           {
            "automargin": true,
            "type": "pie"
           }
          ],
          "scatter": [
           {
            "fillpattern": {
             "fillmode": "overlay",
             "size": 10,
             "solidity": 0.2
            },
            "type": "scatter"
           }
          ],
          "scatter3d": [
           {
            "line": {
             "colorbar": {
              "outlinewidth": 0,
              "ticks": ""
             }
            },
            "marker": {
             "colorbar": {
              "outlinewidth": 0,
              "ticks": ""
             }
            },
            "type": "scatter3d"
           }
          ],
          "scattercarpet": [
           {
            "marker": {
             "colorbar": {
              "outlinewidth": 0,
              "ticks": ""
             }
            },
            "type": "scattercarpet"
           }
          ],
          "scattergeo": [
           {
            "marker": {
             "colorbar": {
              "outlinewidth": 0,
              "ticks": ""
             }
            },
            "type": "scattergeo"
           }
          ],
          "scattergl": [
           {
            "marker": {
             "colorbar": {
              "outlinewidth": 0,
              "ticks": ""
             }
            },
            "type": "scattergl"
           }
          ],
          "scattermapbox": [
           {
            "marker": {
             "colorbar": {
              "outlinewidth": 0,
              "ticks": ""
             }
            },
            "type": "scattermapbox"
           }
          ],
          "scatterpolar": [
           {
            "marker": {
             "colorbar": {
              "outlinewidth": 0,
              "ticks": ""
             }
            },
            "type": "scatterpolar"
           }
          ],
          "scatterpolargl": [
           {
            "marker": {
             "colorbar": {
              "outlinewidth": 0,
              "ticks": ""
             }
            },
            "type": "scatterpolargl"
           }
          ],
          "scatterternary": [
           {
            "marker": {
             "colorbar": {
              "outlinewidth": 0,
              "ticks": ""
             }
            },
            "type": "scatterternary"
           }
          ],
          "surface": [
           {
            "colorbar": {
             "outlinewidth": 0,
             "ticks": ""
            },
            "colorscale": [
             [
              0,
              "#0d0887"
             ],
             [
              0.1111111111111111,
              "#46039f"
             ],
             [
              0.2222222222222222,
              "#7201a8"
             ],
             [
              0.3333333333333333,
              "#9c179e"
             ],
             [
              0.4444444444444444,
              "#bd3786"
             ],
             [
              0.5555555555555556,
              "#d8576b"
             ],
             [
              0.6666666666666666,
              "#ed7953"
             ],
             [
              0.7777777777777778,
              "#fb9f3a"
             ],
             [
              0.8888888888888888,
              "#fdca26"
             ],
             [
              1,
              "#f0f921"
             ]
            ],
            "type": "surface"
           }
          ],
          "table": [
           {
            "cells": {
             "fill": {
              "color": "#EBF0F8"
             },
             "line": {
              "color": "white"
             }
            },
            "header": {
             "fill": {
              "color": "#C8D4E3"
             },
             "line": {
              "color": "white"
             }
            },
            "type": "table"
           }
          ]
         },
         "layout": {
          "annotationdefaults": {
           "arrowcolor": "#2a3f5f",
           "arrowhead": 0,
           "arrowwidth": 1
          },
          "autotypenumbers": "strict",
          "coloraxis": {
           "colorbar": {
            "outlinewidth": 0,
            "ticks": ""
           }
          },
          "colorscale": {
           "diverging": [
            [
             0,
             "#8e0152"
            ],
            [
             0.1,
             "#c51b7d"
            ],
            [
             0.2,
             "#de77ae"
            ],
            [
             0.3,
             "#f1b6da"
            ],
            [
             0.4,
             "#fde0ef"
            ],
            [
             0.5,
             "#f7f7f7"
            ],
            [
             0.6,
             "#e6f5d0"
            ],
            [
             0.7,
             "#b8e186"
            ],
            [
             0.8,
             "#7fbc41"
            ],
            [
             0.9,
             "#4d9221"
            ],
            [
             1,
             "#276419"
            ]
           ],
           "sequential": [
            [
             0,
             "#0d0887"
            ],
            [
             0.1111111111111111,
             "#46039f"
            ],
            [
             0.2222222222222222,
             "#7201a8"
            ],
            [
             0.3333333333333333,
             "#9c179e"
            ],
            [
             0.4444444444444444,
             "#bd3786"
            ],
            [
             0.5555555555555556,
             "#d8576b"
            ],
            [
             0.6666666666666666,
             "#ed7953"
            ],
            [
             0.7777777777777778,
             "#fb9f3a"
            ],
            [
             0.8888888888888888,
             "#fdca26"
            ],
            [
             1,
             "#f0f921"
            ]
           ],
           "sequentialminus": [
            [
             0,
             "#0d0887"
            ],
            [
             0.1111111111111111,
             "#46039f"
            ],
            [
             0.2222222222222222,
             "#7201a8"
            ],
            [
             0.3333333333333333,
             "#9c179e"
            ],
            [
             0.4444444444444444,
             "#bd3786"
            ],
            [
             0.5555555555555556,
             "#d8576b"
            ],
            [
             0.6666666666666666,
             "#ed7953"
            ],
            [
             0.7777777777777778,
             "#fb9f3a"
            ],
            [
             0.8888888888888888,
             "#fdca26"
            ],
            [
             1,
             "#f0f921"
            ]
           ]
          },
          "colorway": [
           "#636efa",
           "#EF553B",
           "#00cc96",
           "#ab63fa",
           "#FFA15A",
           "#19d3f3",
           "#FF6692",
           "#B6E880",
           "#FF97FF",
           "#FECB52"
          ],
          "font": {
           "color": "#2a3f5f"
          },
          "geo": {
           "bgcolor": "white",
           "lakecolor": "white",
           "landcolor": "#E5ECF6",
           "showlakes": true,
           "showland": true,
           "subunitcolor": "white"
          },
          "hoverlabel": {
           "align": "left"
          },
          "hovermode": "closest",
          "mapbox": {
           "style": "light"
          },
          "paper_bgcolor": "white",
          "plot_bgcolor": "#E5ECF6",
          "polar": {
           "angularaxis": {
            "gridcolor": "white",
            "linecolor": "white",
            "ticks": ""
           },
           "bgcolor": "#E5ECF6",
           "radialaxis": {
            "gridcolor": "white",
            "linecolor": "white",
            "ticks": ""
           }
          },
          "scene": {
           "xaxis": {
            "backgroundcolor": "#E5ECF6",
            "gridcolor": "white",
            "gridwidth": 2,
            "linecolor": "white",
            "showbackground": true,
            "ticks": "",
            "zerolinecolor": "white"
           },
           "yaxis": {
            "backgroundcolor": "#E5ECF6",
            "gridcolor": "white",
            "gridwidth": 2,
            "linecolor": "white",
            "showbackground": true,
            "ticks": "",
            "zerolinecolor": "white"
           },
           "zaxis": {
            "backgroundcolor": "#E5ECF6",
            "gridcolor": "white",
            "gridwidth": 2,
            "linecolor": "white",
            "showbackground": true,
            "ticks": "",
            "zerolinecolor": "white"
           }
          },
          "shapedefaults": {
           "line": {
            "color": "#2a3f5f"
           }
          },
          "ternary": {
           "aaxis": {
            "gridcolor": "white",
            "linecolor": "white",
            "ticks": ""
           },
           "baxis": {
            "gridcolor": "white",
            "linecolor": "white",
            "ticks": ""
           },
           "bgcolor": "#E5ECF6",
           "caxis": {
            "gridcolor": "white",
            "linecolor": "white",
            "ticks": ""
           }
          },
          "title": {
           "x": 0.05
          },
          "xaxis": {
           "automargin": true,
           "gridcolor": "white",
           "linecolor": "white",
           "ticks": "",
           "title": {
            "standoff": 15
           },
           "zerolinecolor": "white",
           "zerolinewidth": 2
          },
          "yaxis": {
           "automargin": true,
           "gridcolor": "white",
           "linecolor": "white",
           "ticks": "",
           "title": {
            "standoff": 15
           },
           "zerolinecolor": "white",
           "zerolinewidth": 2
          }
         }
        },
        "title": {
         "text": "Distribution of Athletes by Sex, BMI and Age"
        }
       }
      }
     },
     "metadata": {},
     "output_type": "display_data"
    }
   ],
   "source": [
    "df1_copy = df1.copy()\n",
    "\n",
    "#BMI Distribution\n",
    "df1_copy['Height_m'] = df1_copy['Height']/100  #height im cm to height in m \n",
    "df1_copy['BMI'] = df1_copy['Weight'] / (df1_copy['Height_m'] ** 2)\n",
    "\n",
    "def func_bmi(BMI):\n",
    "    if BMI < 18.5:\n",
    "        return 'Underweight'\n",
    "    elif 18.5 <= BMI < 25:\n",
    "        return 'Normal weight'\n",
    "    elif 25 <= BMI < 30:\n",
    "        return 'Overweight'\n",
    "    else:\n",
    "        return 'Obesity'\n",
    "\n",
    "#Age Distribution\n",
    "def func_age(Age):\n",
    "    \n",
    "    Age = float(Age)\n",
    "    if Age < 20:\n",
    "        return 'Teen'\n",
    "    elif 20 <= Age < 30:\n",
    "        return 'Young Adult'\n",
    "    elif 30 <= Age < 40:\n",
    "        return 'Adult'\n",
    "    else:\n",
    "        return 'Senior'\n",
    "\n",
    "#Sex Distribution\n",
    "def func_sex(Sex):\n",
    "    if Sex == 0:\n",
    "        return 'Male'\n",
    "    else:\n",
    "        return 'Female'\n",
    "\n",
    "#Create new columns in df1_copy\n",
    "df1_copy['BMI'] = df1_copy['BMI'].apply(func_bmi)\n",
    "df1_copy['Age'] = df1_copy['Age'].apply(func_age)\n",
    "df1_copy['Sex'] = df1_copy['Sex'].apply(func_sex)\n",
    "\n",
    "#Create a Sunburst Chart\n",
    "fig = px.sunburst(\n",
    "    df1_copy,\n",
    "    path=['Sex', 'BMI', 'Age'],  # Order of hierarchy\n",
    "    values=None, \n",
    "    color='Sex',\n",
    "    color_discrete_map={'Male':'deepskyblue', 'Female':'hotpink'},  \n",
    "    title=\"Distribution of Athletes by Sex, BMI and Age\"\n",
    ")\n",
    "\n",
    "fig.show()\n"
   ]
  },
  {
   "cell_type": "markdown",
   "id": "354cd409",
   "metadata": {},
   "source": [
    "#### 28. Create a dictionary using any 5 random Athletes ID and their height. \n",
    "#### Access any one height using the Athlete ID with get() function."
   ]
  },
  {
   "cell_type": "code",
   "execution_count": 46,
   "id": "e534fa7f",
   "metadata": {},
   "outputs": [
    {
     "name": "stdout",
     "output_type": "stream",
     "text": [
      "{560: 183.7, 20: 181.2, 99: 165.4, 313: 158.0, 696: 176.0}\n",
      "Height of 313: 158.0\n"
     ]
    }
   ],
   "source": [
    "#IDs and Heights lists \n",
    "athlete_id = df1['ID'].tolist()\n",
    "athlete_height = df1['Height'].tolist()\n",
    "\n",
    "#Combine ID and Height into a list of pairs\n",
    "combine_id_height = list(zip(athlete_id, athlete_height))\n",
    "\n",
    "#pick 5 athletes randomly\n",
    "random_5 = random.sample(combine_id_height, 5)\n",
    "\n",
    "#Convert to dictionary\n",
    "athlete_height_dict = dict(random_5)\n",
    "\n",
    "\n",
    "print(athlete_height_dict)\n",
    "\n",
    "#one height using get() function from the dictionary\n",
    "random_id = random.choice(list(athlete_height_dict.keys()))\n",
    "print(f\"Height of {random_id}:\", athlete_height_dict.get(random_id))\n"
   ]
  },
  {
   "cell_type": "markdown",
   "id": "dda8079f",
   "metadata": {},
   "source": [
    "#### 29. Find which age range has the highest number of obese athletes."
   ]
  },
  {
   "cell_type": "code",
   "execution_count": 47,
   "id": "b1b1bb96",
   "metadata": {},
   "outputs": [
    {
     "name": "stdout",
     "output_type": "stream",
     "text": [
      "Highest age range is: 16-30 and the highest count is: 13\n"
     ]
    }
   ],
   "source": [
    "df1_copy = df1.copy()\n",
    "\n",
    "df1_copy['Height_m'] = df1_copy['Height'] / 100\n",
    "df1_copy['BMI'] = df1_copy['Weight'] / (df1_copy['Height_m'] ** 2)\n",
    "\n",
    "# Filter obese\n",
    "obese = df1_copy[df1_copy['BMI'] >= 30].copy()\n",
    "\n",
    "# Create Age Range\n",
    "obese['Age_Range'] = pd.cut(obese['Age'], bins=[0, 15, 30, 45, 60, 75], labels=['0-15', '16-30', '31-45', '46-60', '61-75'], right=False)\n",
    "\n",
    "# Group and count\n",
    "age_range_group = obese.groupby('Age_Range', observed=False).size()\n",
    "\n",
    "highest_age_range = age_range_group.idxmax()\n",
    "highest_count = age_range_group.max()\n",
    "\n",
    "print(f\"Highest age range is: {highest_age_range} and the highest count is: {highest_count}\")\n"
   ]
  },
  {
   "cell_type": "markdown",
   "id": "62a8c048",
   "metadata": {},
   "source": [
    "#### 30. Create a waffle chart to show the percentage of participant in each HR zone (followed by question 23)"
   ]
  },
  {
   "cell_type": "code",
   "execution_count": 48,
   "id": "03e1616a",
   "metadata": {},
   "outputs": [
    {
     "data": {
      "image/png": "[encoded data removed]",
      "text/plain": [
       "<Waffle size 1000x600 with 1 Axes>"
      ]
     },
     "metadata": {},
     "output_type": "display_data"
    }
   ],
   "source": [
    "def get_hr_zone(hr):\n",
    "    if hr < 100:\n",
    "        return 'Zone 1 (Recovery/Easy)'\n",
    "    elif 100 <= hr < 120:\n",
    "        return 'Zone 2 (Aerobic/Base)'\n",
    "    elif 120 <= hr < 135:\n",
    "        return 'Zone 3 (Tempo)'\n",
    "    elif 135 <= hr < 155:\n",
    "        return 'Zone 4 (Lactate Threshold)'\n",
    "    else:\n",
    "        return 'Zone 5 (Anaerobic)'\n",
    "\n",
    "df2['Zone'] = df2['HR'].apply(get_hr_zone)\n",
    "\n",
    "# Percentage of participant in each HR zone\n",
    "zone_counts = df2['Zone'].value_counts(normalize=True) * 100  \n",
    "zone_counts = zone_counts.round(0).astype(int)  \n",
    "\n",
    "# Waffle chart\n",
    "fig = plt.figure(\n",
    "    FigureClass=Waffle, \n",
    "    rows=10, columns =10,\n",
    "    values=zone_counts.to_dict(),\n",
    "    title={'label': 'Participants in Each HR Zone', 'loc': 'center'},\n",
    "    labels=[f\"{k} ({v}%)\" for k, v in zone_counts.items()],\n",
    "    legend={'loc': 'lower left', 'bbox_to_anchor': (0,-0.3), 'ncol': 2, 'fontsize': 8},\n",
    "    figsize=(10, 6),\n",
    "    icons='square', icon_size=18, icon_legend=True\n",
    ")\n",
    "plt.show()\n",
    "\n"
   ]
  },
  {
   "cell_type": "markdown",
   "id": "851fdba2",
   "metadata": {},
   "source": [
    "#### 31. Calculate the Tidal volume of every athlete and display it as a list."
   ]
  },
  {
   "cell_type": "code",
   "execution_count": 49,
   "id": "8c33d8dd",
   "metadata": {},
   "outputs": [],
   "source": [
    "# Tidal volume(TV) = Body weight(kg) x"
   ]
  },
  {
   "cell_type": "markdown",
   "id": "08a37f5b",
   "metadata": {},
   "source": [
    "#### 32. create a Pivot table to summarize the count of each HR Zone"
   ]
  },
  {
   "cell_type": "code",
   "execution_count": null,
   "id": "ce8bb0ba",
   "metadata": {},
   "outputs": [],
   "source": []
  }
 ],
 "metadata": {
  "kernelspec": {
   "display_name": "base",
   "language": "python",
   "name": "python3"
  },
  "language_info": {
   "codemirror_mode": {
    "name": "ipython",
    "version": 3
   },
   "file_extension": ".py",
   "mimetype": "text/x-python",
   "name": "python",
   "nbconvert_exporter": "python",
   "pygments_lexer": "ipython3",
   "version": "3.11.7"
  }
 },
 "nbformat": 4,
 "nbformat_minor": 5
}
