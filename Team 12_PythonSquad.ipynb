{
 "cells": [
  {
   "cell_type": "code",
   "execution_count": 1,
   "id": "bcf4f673-354c-4013-9a76-e8b3c21d76ae",
   "metadata": {},
   "outputs": [],
   "source": [
    "import pandas as pd\n",
    "import numpy as np\n",
    "import matplotlib.pyplot as plt"
   ]
  },
  {
   "cell_type": "code",
   "execution_count": 2,
   "id": "66da47a2-5bef-4775-b6d4-a2f7467cbd88",
   "metadata": {},
   "outputs": [],
   "source": [
    "df1 = pd.read_csv(\"subject-info.csv\")\n",
    "df2 = pd.read_csv(\"test_measure.csv\")\n"
   ]
  },
  {
   "cell_type": "code",
   "execution_count": 3,
   "id": "a4a2f397-7c1b-42e9-bfed-aaf0cf224b7c",
   "metadata": {},
   "outputs": [
    {
     "data": {
      "text/html": [
       "<div>\n",
       "<style scoped>\n",
       "    .dataframe tbody tr th:only-of-type {\n",
       "        vertical-align: middle;\n",
       "    }\n",
       "\n",
       "    .dataframe tbody tr th {\n",
       "        vertical-align: top;\n",
       "    }\n",
       "\n",
       "    .dataframe thead th {\n",
       "        text-align: right;\n",
       "    }\n",
       "</style>\n",
       "<table border=\"1\" class=\"dataframe\">\n",
       "  <thead>\n",
       "    <tr style=\"text-align: right;\">\n",
       "      <th></th>\n",
       "      <th>Age</th>\n",
       "      <th>Weight</th>\n",
       "      <th>Height</th>\n",
       "      <th>Humidity</th>\n",
       "      <th>Temperature</th>\n",
       "      <th>Sex</th>\n",
       "      <th>ID</th>\n",
       "      <th>ID_test</th>\n",
       "    </tr>\n",
       "  </thead>\n",
       "  <tbody>\n",
       "    <tr>\n",
       "      <th>0</th>\n",
       "      <td>10.8</td>\n",
       "      <td>48.8</td>\n",
       "      <td>163.0</td>\n",
       "      <td>39.0</td>\n",
       "      <td>20.7</td>\n",
       "      <td>1</td>\n",
       "      <td>543</td>\n",
       "      <td>543_1</td>\n",
       "    </tr>\n",
       "    <tr>\n",
       "      <th>1</th>\n",
       "      <td>11.8</td>\n",
       "      <td>41.0</td>\n",
       "      <td>150.0</td>\n",
       "      <td>41.0</td>\n",
       "      <td>22.3</td>\n",
       "      <td>1</td>\n",
       "      <td>11</td>\n",
       "      <td>11_1</td>\n",
       "    </tr>\n",
       "    <tr>\n",
       "      <th>2</th>\n",
       "      <td>12.2</td>\n",
       "      <td>46.0</td>\n",
       "      <td>160.0</td>\n",
       "      <td>37.0</td>\n",
       "      <td>21.5</td>\n",
       "      <td>0</td>\n",
       "      <td>829</td>\n",
       "      <td>829_1</td>\n",
       "    </tr>\n",
       "    <tr>\n",
       "      <th>3</th>\n",
       "      <td>13.2</td>\n",
       "      <td>71.0</td>\n",
       "      <td>190.0</td>\n",
       "      <td>49.0</td>\n",
       "      <td>23.8</td>\n",
       "      <td>1</td>\n",
       "      <td>284</td>\n",
       "      <td>284_1</td>\n",
       "    </tr>\n",
       "    <tr>\n",
       "      <th>4</th>\n",
       "      <td>13.7</td>\n",
       "      <td>53.8</td>\n",
       "      <td>169.7</td>\n",
       "      <td>40.0</td>\n",
       "      <td>25.3</td>\n",
       "      <td>0</td>\n",
       "      <td>341</td>\n",
       "      <td>341_1</td>\n",
       "    </tr>\n",
       "    <tr>\n",
       "      <th>...</th>\n",
       "      <td>...</td>\n",
       "      <td>...</td>\n",
       "      <td>...</td>\n",
       "      <td>...</td>\n",
       "      <td>...</td>\n",
       "      <td>...</td>\n",
       "      <td>...</td>\n",
       "      <td>...</td>\n",
       "    </tr>\n",
       "    <tr>\n",
       "      <th>987</th>\n",
       "      <td>59.1</td>\n",
       "      <td>64.7</td>\n",
       "      <td>172.0</td>\n",
       "      <td>38.0</td>\n",
       "      <td>24.4</td>\n",
       "      <td>0</td>\n",
       "      <td>856</td>\n",
       "      <td>856_2</td>\n",
       "    </tr>\n",
       "    <tr>\n",
       "      <th>988</th>\n",
       "      <td>59.7</td>\n",
       "      <td>65.2</td>\n",
       "      <td>172.0</td>\n",
       "      <td>51.0</td>\n",
       "      <td>16.8</td>\n",
       "      <td>0</td>\n",
       "      <td>856</td>\n",
       "      <td>856_3</td>\n",
       "    </tr>\n",
       "    <tr>\n",
       "      <th>989</th>\n",
       "      <td>61.3</td>\n",
       "      <td>102.0</td>\n",
       "      <td>185.0</td>\n",
       "      <td>56.0</td>\n",
       "      <td>20.5</td>\n",
       "      <td>0</td>\n",
       "      <td>390</td>\n",
       "      <td>390_1</td>\n",
       "    </tr>\n",
       "    <tr>\n",
       "      <th>990</th>\n",
       "      <td>61.6</td>\n",
       "      <td>74.0</td>\n",
       "      <td>169.0</td>\n",
       "      <td>46.0</td>\n",
       "      <td>23.9</td>\n",
       "      <td>0</td>\n",
       "      <td>596</td>\n",
       "      <td>596_1</td>\n",
       "    </tr>\n",
       "    <tr>\n",
       "      <th>991</th>\n",
       "      <td>63.0</td>\n",
       "      <td>83.5</td>\n",
       "      <td>171.5</td>\n",
       "      <td>48.0</td>\n",
       "      <td>22.2</td>\n",
       "      <td>0</td>\n",
       "      <td>296</td>\n",
       "      <td>296_1</td>\n",
       "    </tr>\n",
       "  </tbody>\n",
       "</table>\n",
       "<p>992 rows × 8 columns</p>\n",
       "</div>"
      ],
      "text/plain": [
       "      Age  Weight  Height  Humidity  Temperature  Sex   ID ID_test\n",
       "0    10.8    48.8   163.0      39.0         20.7    1  543   543_1\n",
       "1    11.8    41.0   150.0      41.0         22.3    1   11    11_1\n",
       "2    12.2    46.0   160.0      37.0         21.5    0  829   829_1\n",
       "3    13.2    71.0   190.0      49.0         23.8    1  284   284_1\n",
       "4    13.7    53.8   169.7      40.0         25.3    0  341   341_1\n",
       "..    ...     ...     ...       ...          ...  ...  ...     ...\n",
       "987  59.1    64.7   172.0      38.0         24.4    0  856   856_2\n",
       "988  59.7    65.2   172.0      51.0         16.8    0  856   856_3\n",
       "989  61.3   102.0   185.0      56.0         20.5    0  390   390_1\n",
       "990  61.6    74.0   169.0      46.0         23.9    0  596   596_1\n",
       "991  63.0    83.5   171.5      48.0         22.2    0  296   296_1\n",
       "\n",
       "[992 rows x 8 columns]"
      ]
     },
     "execution_count": 3,
     "metadata": {},
     "output_type": "execute_result"
    }
   ],
   "source": [
    "df1\n"
   ]
  },
  {
   "cell_type": "code",
   "execution_count": 4,
   "id": "a4f0cb2e-1e49-40e5-9bf5-88fee3c9ac84",
   "metadata": {},
   "outputs": [
    {
     "data": {
      "text/html": [
       "<div>\n",
       "<style scoped>\n",
       "    .dataframe tbody tr th:only-of-type {\n",
       "        vertical-align: middle;\n",
       "    }\n",
       "\n",
       "    .dataframe tbody tr th {\n",
       "        vertical-align: top;\n",
       "    }\n",
       "\n",
       "    .dataframe thead th {\n",
       "        text-align: right;\n",
       "    }\n",
       "</style>\n",
       "<table border=\"1\" class=\"dataframe\">\n",
       "  <thead>\n",
       "    <tr style=\"text-align: right;\">\n",
       "      <th></th>\n",
       "      <th>time</th>\n",
       "      <th>Speed</th>\n",
       "      <th>HR</th>\n",
       "      <th>VO2</th>\n",
       "      <th>VCO2</th>\n",
       "      <th>RR</th>\n",
       "      <th>VE</th>\n",
       "      <th>ID_test</th>\n",
       "      <th>ID</th>\n",
       "    </tr>\n",
       "  </thead>\n",
       "  <tbody>\n",
       "    <tr>\n",
       "      <th>0</th>\n",
       "      <td>0</td>\n",
       "      <td>5.0</td>\n",
       "      <td>63.0</td>\n",
       "      <td>478.0</td>\n",
       "      <td>360.0</td>\n",
       "      <td>27.0</td>\n",
       "      <td>13.3</td>\n",
       "      <td>2_1</td>\n",
       "      <td>2</td>\n",
       "    </tr>\n",
       "    <tr>\n",
       "      <th>1</th>\n",
       "      <td>2</td>\n",
       "      <td>5.0</td>\n",
       "      <td>75.0</td>\n",
       "      <td>401.0</td>\n",
       "      <td>295.0</td>\n",
       "      <td>23.0</td>\n",
       "      <td>10.3</td>\n",
       "      <td>2_1</td>\n",
       "      <td>2</td>\n",
       "    </tr>\n",
       "    <tr>\n",
       "      <th>2</th>\n",
       "      <td>4</td>\n",
       "      <td>5.0</td>\n",
       "      <td>82.0</td>\n",
       "      <td>449.0</td>\n",
       "      <td>319.0</td>\n",
       "      <td>29.0</td>\n",
       "      <td>12.2</td>\n",
       "      <td>2_1</td>\n",
       "      <td>2</td>\n",
       "    </tr>\n",
       "    <tr>\n",
       "      <th>3</th>\n",
       "      <td>7</td>\n",
       "      <td>5.0</td>\n",
       "      <td>87.0</td>\n",
       "      <td>461.0</td>\n",
       "      <td>340.0</td>\n",
       "      <td>28.0</td>\n",
       "      <td>12.8</td>\n",
       "      <td>2_1</td>\n",
       "      <td>2</td>\n",
       "    </tr>\n",
       "    <tr>\n",
       "      <th>4</th>\n",
       "      <td>9</td>\n",
       "      <td>5.0</td>\n",
       "      <td>92.0</td>\n",
       "      <td>574.0</td>\n",
       "      <td>417.0</td>\n",
       "      <td>28.0</td>\n",
       "      <td>14.6</td>\n",
       "      <td>2_1</td>\n",
       "      <td>2</td>\n",
       "    </tr>\n",
       "    <tr>\n",
       "      <th>...</th>\n",
       "      <td>...</td>\n",
       "      <td>...</td>\n",
       "      <td>...</td>\n",
       "      <td>...</td>\n",
       "      <td>...</td>\n",
       "      <td>...</td>\n",
       "      <td>...</td>\n",
       "      <td>...</td>\n",
       "      <td>...</td>\n",
       "    </tr>\n",
       "    <tr>\n",
       "      <th>575082</th>\n",
       "      <td>926</td>\n",
       "      <td>5.0</td>\n",
       "      <td>148.0</td>\n",
       "      <td>1350.0</td>\n",
       "      <td>1699.0</td>\n",
       "      <td>35.0</td>\n",
       "      <td>65.7</td>\n",
       "      <td>857_1</td>\n",
       "      <td>857</td>\n",
       "    </tr>\n",
       "    <tr>\n",
       "      <th>575083</th>\n",
       "      <td>927</td>\n",
       "      <td>5.0</td>\n",
       "      <td>147.0</td>\n",
       "      <td>1275.0</td>\n",
       "      <td>1605.0</td>\n",
       "      <td>32.0</td>\n",
       "      <td>60.1</td>\n",
       "      <td>857_1</td>\n",
       "      <td>857</td>\n",
       "    </tr>\n",
       "    <tr>\n",
       "      <th>575084</th>\n",
       "      <td>929</td>\n",
       "      <td>5.0</td>\n",
       "      <td>147.0</td>\n",
       "      <td>1259.0</td>\n",
       "      <td>1566.0</td>\n",
       "      <td>29.0</td>\n",
       "      <td>57.0</td>\n",
       "      <td>857_1</td>\n",
       "      <td>857</td>\n",
       "    </tr>\n",
       "    <tr>\n",
       "      <th>575085</th>\n",
       "      <td>931</td>\n",
       "      <td>5.0</td>\n",
       "      <td>147.0</td>\n",
       "      <td>1278.0</td>\n",
       "      <td>1587.0</td>\n",
       "      <td>31.0</td>\n",
       "      <td>58.5</td>\n",
       "      <td>857_1</td>\n",
       "      <td>857</td>\n",
       "    </tr>\n",
       "    <tr>\n",
       "      <th>575086</th>\n",
       "      <td>933</td>\n",
       "      <td>5.0</td>\n",
       "      <td>147.0</td>\n",
       "      <td>1299.0</td>\n",
       "      <td>1600.0</td>\n",
       "      <td>31.0</td>\n",
       "      <td>58.7</td>\n",
       "      <td>857_1</td>\n",
       "      <td>857</td>\n",
       "    </tr>\n",
       "  </tbody>\n",
       "</table>\n",
       "<p>575087 rows × 9 columns</p>\n",
       "</div>"
      ],
      "text/plain": [
       "        time  Speed     HR     VO2    VCO2    RR    VE ID_test   ID\n",
       "0          0    5.0   63.0   478.0   360.0  27.0  13.3     2_1    2\n",
       "1          2    5.0   75.0   401.0   295.0  23.0  10.3     2_1    2\n",
       "2          4    5.0   82.0   449.0   319.0  29.0  12.2     2_1    2\n",
       "3          7    5.0   87.0   461.0   340.0  28.0  12.8     2_1    2\n",
       "4          9    5.0   92.0   574.0   417.0  28.0  14.6     2_1    2\n",
       "...      ...    ...    ...     ...     ...   ...   ...     ...  ...\n",
       "575082   926    5.0  148.0  1350.0  1699.0  35.0  65.7   857_1  857\n",
       "575083   927    5.0  147.0  1275.0  1605.0  32.0  60.1   857_1  857\n",
       "575084   929    5.0  147.0  1259.0  1566.0  29.0  57.0   857_1  857\n",
       "575085   931    5.0  147.0  1278.0  1587.0  31.0  58.5   857_1  857\n",
       "575086   933    5.0  147.0  1299.0  1600.0  31.0  58.7   857_1  857\n",
       "\n",
       "[575087 rows x 9 columns]"
      ]
     },
     "execution_count": 4,
     "metadata": {},
     "output_type": "execute_result"
    }
   ],
   "source": [
    "df2\n"
   ]
  },
  {
   "cell_type": "code",
   "execution_count": null,
   "id": "10797c4f-ce22-4b01-9b75-2ba7c7b5278b",
   "metadata": {},
   "outputs": [],
   "source": []
  },
  {
   "cell_type": "markdown",
   "id": "a4a667a8-6a6f-49de-9b7d-d8d25ca0cff7",
   "metadata": {},
   "source": [
    "#### 17. Display a histogram showing the distribution of athletes by their BMI values."
   ]
  },
  {
   "cell_type": "code",
   "execution_count": 3,
   "id": "04abcd6f-2e89-450b-b29e-78be74b815b6",
   "metadata": {},
   "outputs": [],
   "source": [
    "df_copy = df1.copy()\n"
   ]
  },
  {
   "cell_type": "code",
   "execution_count": 4,
   "id": "19487bbe-1b88-4cdf-a720-e9a858e249c4",
   "metadata": {},
   "outputs": [
    {
     "data": {
      "image/png": "[encoded data removed]",
      "text/plain": [
       "<Figure size 600x600 with 1 Axes>"
      ]
     },
     "metadata": {},
     "output_type": "display_data"
    }
   ],
   "source": [
    "df_copy['Height_m'] = df_copy['Height']/100  #height im cm to height in m\n",
    "df_copy['BMI'] = df_copy['Height_m']/ (df_copy['Weight']**2)  \n",
    "df_copy['BMI']\n",
    "\n",
    "#creating histogram\n",
    "plt.figure(figsize=(6,6))\n",
    "plt.hist(df_copy['BMI'], bins=10, color='salmon')\n",
    "plt.title('Distribution of Athletes by BMI Values')\n",
    "plt.xlabel('BMI')\n",
    "plt.ylabel('Athletes Distribution')\n",
    "plt.grid(axis='y', linestyle='--', alpha=0.6)\n",
    "plt.show()\n"
   ]
  },
  {
   "cell_type": "code",
   "execution_count": null,
   "id": "2c5144cf-933d-454a-a6f4-fe0e3167fb17",
   "metadata": {},
   "outputs": [],
   "source": []
  },
  {
   "cell_type": "markdown",
   "id": "087d1ced-ccf4-4017-afed-8826a1ca5fd8",
   "metadata": {},
   "source": [
    "#### 18. Who is the tallest participant in the dataset? What is his/her Vo2 kg/ml?"
   ]
  },
  {
   "cell_type": "code",
   "execution_count": 21,
   "id": "7bdcd7c3-6c5f-42d9-8a1f-1f869dcf2def",
   "metadata": {},
   "outputs": [
    {
     "name": "stdout",
     "output_type": "stream",
     "text": [
      "Tallest participant ID is: 94 and her VO2 value is: 8.64Kg/ml\n"
     ]
    }
   ],
   "source": [
    "# Merge df1 and df2 based on the 'ID' column\n",
    "df = pd.merge(df1, df2, on='ID')\n",
    "\n",
    "# find the max height value\n",
    "max_height = df['Height'].max()\n",
    "\n",
    "# to get the first row where the height is the maximum\n",
    "tallest_participant = df[df['Height'] == max_height].iloc[0]\n",
    "\n",
    "#Vo2 for the tallest participant. \n",
    "participant_weight = tallest_participant['Weight']\n",
    "VO2_ml_per_min = tallest_participant['VO2']\n",
    "VO2_ml_per_kg_min = VO2_ml_per_min / participant_weight  #we have Vo2 in mL/min, change to Kg/ml\n",
    "\n",
    "#Print the ID,Height and VO2\n",
    "print(f\"Tallest participant ID is: {tallest_participant['ID']} and her VO2 value is: {VO2_ml_per_kg_min:.2f}Kg/ml\")\n"
   ]
  },
  {
   "cell_type": "markdown",
   "id": "33059e0a-7bfd-4f5a-aba7-84b7269db1e2",
   "metadata": {},
   "source": [
    "#### 19. What is the highest recorded heart rate ? Identify the patient with the highest recorded heart rate."
   ]
  },
  {
   "cell_type": "code",
   "execution_count": 5,
   "id": "95bbc784-8d8d-4454-9e88-1763b2289060",
   "metadata": {},
   "outputs": [
    {
     "name": "stdout",
     "output_type": "stream",
     "text": [
      "Highest heart rate patient ID is: 619 and heart rate is: 226.0\n"
     ]
    }
   ],
   "source": [
    "highest_HR = df2['HR'].max()\n",
    "highest_HR_patient = df2[df2['HR'] == highest_HR].iloc[0]\n",
    "\n",
    "print(f\"Highest heart rate patient ID is: {highest_HR_patient['ID']} and heart rate is: {highest_HR}\")\n"
   ]
  },
  {
   "cell_type": "markdown",
   "id": "48f4cfe8-a641-4527-96bc-7f24aab3044b",
   "metadata": {},
   "source": [
    "#### 20. What is the VO2 max(mL/kg/min) of the shortest male athlete?"
   ]
  },
  {
   "cell_type": "code",
   "execution_count": 11,
   "id": "9296092e-abe4-4b9e-bb1b-6178f30485fa",
   "metadata": {},
   "outputs": [
    {
     "name": "stdout",
     "output_type": "stream",
     "text": [
      "Shortest male athlete's ID is: 367 and his VO2 max is: 6.45mL/kg/min\n"
     ]
    }
   ],
   "source": [
    "# Merge df1 and df2 based on the 'ID' column\n",
    "df = pd.merge(df1, df2, on='ID')\n",
    "\n",
    "male_athlete = df[df['Sex']==0]  # for male= 0\n",
    "min_height = male_athlete['Height'].min()\n",
    "\n",
    "#shortest male athlete\n",
    "shortest_male_athlete = male_athlete[male_athlete['Height'] == min_height].iloc[0]\n",
    "\n",
    "#shortest_male_athlete weight & VO2\n",
    "shortest_male_athlete_weight = shortest_male_athlete['Weight']\n",
    "VO2_ml_per_min =shortest_male_athlete['VO2']\n",
    "\n",
    "VO2_ml_per_kg_min = (VO2_ml_per_min / shortest_male_athlete_weight).max() #we have VO2 in mL/min, change to mL/kg/min\n",
    "\n",
    "print(f\"Shortest male athlete's ID is: {shortest_male_athlete['ID']} and his VO2 max is: {VO2_ml_per_kg_min:.2f}mL/kg/min\")\n",
    "\n",
    "\n",
    " "
   ]
  },
  {
   "cell_type": "markdown",
   "id": "c82eb5df-b1c5-4531-8165-668c574cdc33",
   "metadata": {},
   "source": [
    "#### 21. Analyze the mean VO2 and VCO2 values by humidity level using a Multiseries Bar Chart.\n",
    "#### Based on your findings, how does low humidity affect respiratory and cardiovascular function during exercise (VO2 and VCO2) ?\n",
    "#### Humidity level (<30 - Low) , (30 to 60 - Normal ) ,(>60 - High)"
   ]
  },
  {
   "cell_type": "markdown",
   "id": "29968e7d-c0bb-4408-abd7-ba733271bad4",
   "metadata": {},
   "source": []
  },
  {
   "cell_type": "code",
   "execution_count": null,
   "id": "d6ab0182-e80c-41a4-9931-1dc7745d3109",
   "metadata": {},
   "outputs": [],
   "source": []
  },
  {
   "cell_type": "code",
   "execution_count": null,
   "id": "0a8cda7e-c17e-4d7b-983b-452cadb7cb9c",
   "metadata": {},
   "outputs": [],
   "source": []
  },
  {
   "cell_type": "code",
   "execution_count": null,
   "id": "348d6c24-bdec-4b3b-919d-31f2d2c6db45",
   "metadata": {},
   "outputs": [],
   "source": [
    "22. Display the average speed of each participant in ' peak exercise' based on RER (Following question no.14)"
   ]
  },
  {
   "cell_type": "code",
   "execution_count": null,
   "id": "610aeece-9d44-441e-bffc-fa292bffe4d3",
   "metadata": {},
   "outputs": [],
   "source": [
    "Calculate RER (Respiratory Exchange Ratio) , and categorize exercise phase to warmup, moderate, peak exercise according to RER\n",
    "\n"
   ]
  },
  {
   "cell_type": "code",
   "execution_count": null,
   "id": "fdd7000d-1185-4e2c-bdc7-2cfa9468c203",
   "metadata": {},
   "outputs": [],
   "source": [
    "23. Assign one of the following 5 heart rate zones for every Athletes and add this as a column to a new table with all unique IDs.\n",
    "    Exclude Warm-Up Phase\n",
    " \n",
    "  Zone 1 (recovery/easy) <100 HR max\n",
    "  Zone 2 (aerobic/base) 100-120 HR max\n",
    "  Zone 3 (tempo) 120-135 HR max\n",
    "  Zone 4 (lactate threshold) 135-155 HR max\n",
    "  Zone 5 (anaerobic) 155+ HR max and above\""
   ]
  },
  {
   "cell_type": "code",
   "execution_count": null,
   "id": "ac9dffcb-23b6-4986-81dc-f953322752d9",
   "metadata": {},
   "outputs": [],
   "source": []
  },
  {
   "cell_type": "code",
   "execution_count": null,
   "id": "1fbb3bb9-8359-4ee2-84f6-2ebed07001cb",
   "metadata": {},
   "outputs": [],
   "source": [
    "24. Find the athlete who has got optimal respiratory stability based on the measure of Breathing Interval variability over time."
   ]
  },
  {
   "cell_type": "code",
   "execution_count": null,
   "id": "4dcfdf77-b4cf-4cf3-a395-3ec52756fa0b",
   "metadata": {},
   "outputs": [],
   "source": []
  },
  {
   "cell_type": "code",
   "execution_count": null,
   "id": "9a7ab5cb-db7d-4b59-978a-f5ff4dc3ee69",
   "metadata": {},
   "outputs": [],
   "source": []
  },
  {
   "cell_type": "code",
   "execution_count": null,
   "id": "0bb49a9a-d966-4cb6-8ba9-d546126124c3",
   "metadata": {},
   "outputs": [],
   "source": []
  },
  {
   "cell_type": "code",
   "execution_count": null,
   "id": "c663b4fe-7de9-4b8c-a772-77f267e13ebd",
   "metadata": {},
   "outputs": [],
   "source": []
  },
  {
   "cell_type": "markdown",
   "id": "e59eb862-3679-4e21-9e2d-a5f9d0a625ca",
   "metadata": {},
   "source": [
    "#### 25. Generate a pie chart to show the gender-wise distribution of athletes."
   ]
  },
  {
   "cell_type": "code",
   "execution_count": 12,
   "id": "7c42986a-5539-4734-8f85-2c1bda8245ab",
   "metadata": {},
   "outputs": [
    {
     "data": {
      "image/png": "[encoded data removed]",
      "text/plain": [
       "<Figure size 600x600 with 1 Axes>"
      ]
     },
     "metadata": {},
     "output_type": "display_data"
    }
   ],
   "source": [
    "# Count gender distribution\n",
    "M_F_counts = df1['Sex'].value_counts()\n",
    "\n",
    "# pie chart\n",
    "plt.figure(figsize=(6, 6))\n",
    "plt.pie(M_F_counts, labels=M_F_counts.index, autopct='%.2f%%', startangle=90, colors=['dodgerblue', 'pink']) # 1= female, 0=male\n",
    "plt.title('Gender_wise Distribution of Athletes')\n",
    "\n",
    "\n",
    "# Show the plot\n",
    "plt.show()"
   ]
  },
  {
   "cell_type": "code",
   "execution_count": null,
   "id": "44cac72b-dfc8-4724-8eae-f229042ad708",
   "metadata": {},
   "outputs": [],
   "source": []
  }
 ],
 "metadata": {
  "kernelspec": {
   "display_name": "Python 3 (ipykernel)",
   "language": "python",
   "name": "python3"
  },
  "language_info": {
   "codemirror_mode": {
    "name": "ipython",
    "version": 3
   },
   "file_extension": ".py",
   "mimetype": "text/x-python",
   "name": "python",
   "nbconvert_exporter": "python",
   "pygments_lexer": "ipython3",
   "version": "3.11.7"
  }
 },
 "nbformat": 4,
 "nbformat_minor": 5
}
